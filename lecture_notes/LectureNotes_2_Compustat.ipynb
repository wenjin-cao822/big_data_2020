{
 "cells": [
  {
   "cell_type": "markdown",
   "metadata": {
    "slideshow": {
     "slide_type": "slide"
    }
   },
   "source": [
    "# Big Data in Finance: Part II (Lecture 1) <BR><BR> Lecture Notes 2: Compustat \n",
    "    \n",
    "**Instructor** <BR>\n",
    "Lira Mota, lmota20@gsb.columbia.edu\n",
    "    \n",
    "**TA's:** <BR>\n",
    "Pu He, phe19@gsb.columbia.edu <BR> Daheng Yang, dyang22@gsb.columbia.edu"
   ]
  },
  {
   "cell_type": "markdown",
   "metadata": {
    "slideshow": {
     "slide_type": "slide"
    }
   },
   "source": [
    "**Objective**\n",
    "\n",
    "Create a data frame with company fundamentals necessary to replicate FF 2015:\n",
    "\n",
    "1. Book Equity (BE)\n",
    "2. Operating Profits (OP)\n",
    "3. Investment (INV)"
   ]
  },
  {
   "cell_type": "markdown",
   "metadata": {
    "slideshow": {
     "slide_type": "slide"
    }
   },
   "source": [
    "# Set Up"
   ]
  },
  {
   "cell_type": "code",
   "execution_count": 1,
   "metadata": {
    "slideshow": {
     "slide_type": "fragment"
    }
   },
   "outputs": [],
   "source": [
    "%matplotlib inline \n",
    "\n",
    "#%% Packages \n",
    "import wrds\n",
    "import datetime\n",
    "import pandas as pd\n",
    "import numpy as np\n",
    "import matplotlib.pyplot as plt\n",
    "plt.rcParams['figure.figsize'] = [10, 6]\n",
    "\n",
    "import time\n",
    "from time import strptime, strftime\n",
    "\n",
    "# Setups\n",
    "pd.set_option(\"display.max_rows\", 100) # max number or rows to be displayed "
   ]
  },
  {
   "cell_type": "code",
   "execution_count": 2,
   "metadata": {
    "slideshow": {
     "slide_type": "fragment"
    }
   },
   "outputs": [
    {
     "name": "stdout",
     "output_type": "stream",
     "text": [
      "Loading library list...\n",
      "Done\n"
     ]
    }
   ],
   "source": [
    "#%% Set WRDS Connection\n",
    "db = wrds.Connection(wrds_username='lmota') # make sure to configure wrds connector before hand."
   ]
  },
  {
   "cell_type": "markdown",
   "metadata": {
    "slideshow": {
     "slide_type": "slide"
    }
   },
   "source": [
    "# Choose variables of interest"
   ]
  },
  {
   "cell_type": "markdown",
   "metadata": {
    "slideshow": {
     "slide_type": "subslide"
    }
   },
   "source": [
    "Compustat XpressFeed Variables 1/5:  \n",
    "* AT      = Total Assets  \n",
    "* CAPX    = Capital Expenditures  \n",
    "* CEQ     = Common/Ordinary Equity - Total \n",
    "* COGS    = Cost of Goods Sold\n",
    "* CSHO    = Common Shares Outstanding\n",
    "* DLC     = Debt in Current Liabilities \n",
    "* DLCCH   = Current Debt - Changes\n",
    "* DLTT    = Long-Term Debt - Total"
   ]
  },
  {
   "cell_type": "markdown",
   "metadata": {
    "slideshow": {
     "slide_type": "subslide"
    }
   },
   "source": [
    "Compustat XpressFeed Variables 2/5:\n",
    "* DP      = Depreciation and Amortization\n",
    "* DVC     = Divdends common/ordinary  \n",
    "* DVP     = Dividends - Preferred/Preference\n",
    "* GP      = Gross Profits\n",
    "* IB      = Income Before Extraordinary Items\n",
    "* ICAPT   = Invested Capital - Total\n",
    "* ITCB    = Investment Tax Credit (Balance Sheet)  \n",
    "* LT      = Total Liabilities"
   ]
  },
  {
   "cell_type": "markdown",
   "metadata": {
    "slideshow": {
     "slide_type": "subslide"
    }
   },
   "source": [
    "Compustat XpressFeed Variables 3/5:\n",
    "* MIB     = Minority Interest (Balance Sheet)\n",
    "* NAICS   = North American Industrial Classification System Variable Name\n",
    "* NAICSH  = North American Industry Classification Codes - Historical Company Variable Name\n",
    "* NI      = Net Income\n",
    "* PPEGT   = \"Property, Plant and Equipment - Total (Gross)\"\n",
    "* PRBA    = Postretirement Benefit Assets (from separate pension annual file) \n",
    "* PRSTKCC = Purchase of Common Stock (Cash Flow)                   \n",
    "* PSTKRV  = Preferred Stock Redemption Value"
   ]
  },
  {
   "cell_type": "markdown",
   "metadata": {
    "slideshow": {
     "slide_type": "subslide"
    }
   },
   "source": [
    "Compustat XpressFeed Variables 4/5:\n",
    "* PSTK    = Preferred/Preference Stock (Capital) - Total (kd: = par?)               \n",
    "* PSTKL   = Preferred Stock Liquidating Value     \n",
    "* PSTKRV  = Preferred Stock Liquidating Value          \n",
    "* RE      = Retained Earnings\n",
    "* REVT    = Revenue - Total\n",
    "* SALE    = Sales/Turnover Net\n",
    "* SEQ     = Shareholders Equity   \n",
    "* SIC     = Standard Industrial Classification Code"
   ]
  },
  {
   "cell_type": "markdown",
   "metadata": {
    "slideshow": {
     "slide_type": "subslide"
    }
   },
   "source": [
    "Compustat XpressFeed Variables 5/5:\n",
    "* TXDB    = Deferred Taxes Balance Sheet\n",
    "* TXDI    = Income Taxes - Deferred\n",
    "* TXDITC  = Deferred Taxes and Investment Tax Credit                        \n",
    "* WCAPCH  = Working Capital Change - Total\n",
    "* XINT    = Interest and Related Expense - Total \n",
    "* XLR     = Staff Expense - Total\n",
    "* XRD     = Research and Development Expense \n",
    "* XSGAQ   = Selling, General and Administrative Expenses (millions)  "
   ]
  },
  {
   "cell_type": "markdown",
   "metadata": {
    "slideshow": {
     "slide_type": "slide"
    }
   },
   "source": [
    "# Download Compustat FUNDA"
   ]
  },
  {
   "cell_type": "code",
   "execution_count": 2,
   "metadata": {
    "slideshow": {
     "slide_type": "fragment"
    }
   },
   "outputs": [
    {
     "ename": "NameError",
     "evalue": "name 'db' is not defined",
     "output_type": "error",
     "traceback": [
      "\u001b[1;31m---------------------------------------------------------------------------\u001b[0m",
      "\u001b[1;31mNameError\u001b[0m                                 Traceback (most recent call last)",
      "\u001b[1;32m<ipython-input-2-c7b05c277d44>\u001b[0m in \u001b[0;36m<module>\u001b[1;34m()\u001b[0m\n\u001b[0;32m     14\u001b[0m            AND fyear>=1980;\"\"\".format(\", \".join(varlist), fund_table)\n\u001b[0;32m     15\u001b[0m \u001b[1;33m\u001b[0m\u001b[0m\n\u001b[1;32m---> 16\u001b[1;33m \u001b[0mcompa\u001b[0m \u001b[1;33m=\u001b[0m \u001b[0mdb\u001b[0m\u001b[1;33m.\u001b[0m\u001b[0mraw_sql\u001b[0m\u001b[1;33m(\u001b[0m\u001b[0mquery\u001b[0m\u001b[1;33m,\u001b[0m \u001b[0mdate_cols\u001b[0m\u001b[1;33m=\u001b[0m\u001b[1;33m[\u001b[0m\u001b[1;34m'datadate'\u001b[0m\u001b[1;33m]\u001b[0m\u001b[1;33m)\u001b[0m\u001b[1;33m\u001b[0m\u001b[0m\n\u001b[0m\u001b[0;32m     17\u001b[0m \u001b[1;33m\u001b[0m\u001b[0m\n\u001b[0;32m     18\u001b[0m \u001b[1;32mdel\u001b[0m\u001b[1;33m(\u001b[0m\u001b[0mfund_table\u001b[0m\u001b[1;33m,\u001b[0m \u001b[0mvarlist\u001b[0m\u001b[1;33m,\u001b[0m \u001b[0mquery\u001b[0m\u001b[1;33m)\u001b[0m\u001b[1;33m\u001b[0m\u001b[0m\n",
      "\u001b[1;31mNameError\u001b[0m: name 'db' is not defined"
     ]
    }
   ],
   "source": [
    "fund_table = 'funda'\n",
    "\n",
    "varlist = ['conm', 'fyear', 'fyr', 'at','capx', 'ceq', 'cogs', 'csho', 'dlc', 'dlcch','dltt', 'dp', 'ib', 'itcb', \n",
    "           'lt', 'mib', 'naicsh', 'ni', 'prstkcc', 'pstk', 'pstkl', 'pstkrv', 're', 'revt', 'sale', \n",
    "           'seq', 'sich', 'txdb', 'txdi', 'txditc', 'wcapch', 'xint', 'xlr', 'xrd', 'xsga']\n",
    "\n",
    "\n",
    "query = \"\"\"SELECT gvkey, datadate, {}\n",
    "           FROM compd.{}\n",
    "           WHERE datafmt = 'STD'\n",
    "           AND popsrc = 'D'\n",
    "           AND indfmt = 'INDL'\n",
    "           AND consol = 'C'\n",
    "           AND fyear>=1980;\"\"\".format(\", \".join(varlist), fund_table)\n",
    "\n",
    "compa = db.raw_sql(query, date_cols=['datadate'])\n",
    "\n",
    "del(fund_table, varlist, query)"
   ]
  },
  {
   "cell_type": "markdown",
   "metadata": {
    "slideshow": {
     "slide_type": "subslide"
    }
   },
   "source": [
    "Always look at your data"
   ]
  },
  {
   "cell_type": "code",
   "execution_count": 4,
   "metadata": {
    "scrolled": false,
    "slideshow": {
     "slide_type": "subslide"
    }
   },
   "outputs": [
    {
     "data": {
      "text/html": [
       "<div>\n",
       "<style scoped>\n",
       "    .dataframe tbody tr th:only-of-type {\n",
       "        vertical-align: middle;\n",
       "    }\n",
       "\n",
       "    .dataframe tbody tr th {\n",
       "        vertical-align: top;\n",
       "    }\n",
       "\n",
       "    .dataframe thead th {\n",
       "        text-align: right;\n",
       "    }\n",
       "</style>\n",
       "<table border=\"1\" class=\"dataframe\">\n",
       "  <thead>\n",
       "    <tr style=\"text-align: right;\">\n",
       "      <th></th>\n",
       "      <th>gvkey</th>\n",
       "      <th>datadate</th>\n",
       "      <th>conm</th>\n",
       "      <th>fyear</th>\n",
       "      <th>fyr</th>\n",
       "      <th>at</th>\n",
       "      <th>capx</th>\n",
       "      <th>ceq</th>\n",
       "      <th>cogs</th>\n",
       "      <th>csho</th>\n",
       "      <th>...</th>\n",
       "      <th>seq</th>\n",
       "      <th>sich</th>\n",
       "      <th>txdb</th>\n",
       "      <th>txdi</th>\n",
       "      <th>txditc</th>\n",
       "      <th>wcapch</th>\n",
       "      <th>xint</th>\n",
       "      <th>xlr</th>\n",
       "      <th>xrd</th>\n",
       "      <th>xsga</th>\n",
       "    </tr>\n",
       "  </thead>\n",
       "  <tbody>\n",
       "    <tr>\n",
       "      <th>0</th>\n",
       "      <td>001001</td>\n",
       "      <td>1980-12-31</td>\n",
       "      <td>A &amp; M FOOD SERVICES INC</td>\n",
       "      <td>1980.0</td>\n",
       "      <td>12.0</td>\n",
       "      <td>NaN</td>\n",
       "      <td>NaN</td>\n",
       "      <td>NaN</td>\n",
       "      <td>NaN</td>\n",
       "      <td>NaN</td>\n",
       "      <td>...</td>\n",
       "      <td>NaN</td>\n",
       "      <td>NaN</td>\n",
       "      <td>NaN</td>\n",
       "      <td>NaN</td>\n",
       "      <td>NaN</td>\n",
       "      <td>NaN</td>\n",
       "      <td>NaN</td>\n",
       "      <td>NaN</td>\n",
       "      <td>NaN</td>\n",
       "      <td>NaN</td>\n",
       "    </tr>\n",
       "    <tr>\n",
       "      <th>1</th>\n",
       "      <td>001001</td>\n",
       "      <td>1981-12-31</td>\n",
       "      <td>A &amp; M FOOD SERVICES INC</td>\n",
       "      <td>1981.0</td>\n",
       "      <td>12.0</td>\n",
       "      <td>NaN</td>\n",
       "      <td>NaN</td>\n",
       "      <td>NaN</td>\n",
       "      <td>NaN</td>\n",
       "      <td>NaN</td>\n",
       "      <td>...</td>\n",
       "      <td>NaN</td>\n",
       "      <td>NaN</td>\n",
       "      <td>NaN</td>\n",
       "      <td>NaN</td>\n",
       "      <td>NaN</td>\n",
       "      <td>NaN</td>\n",
       "      <td>NaN</td>\n",
       "      <td>NaN</td>\n",
       "      <td>NaN</td>\n",
       "      <td>NaN</td>\n",
       "    </tr>\n",
       "    <tr>\n",
       "      <th>2</th>\n",
       "      <td>001001</td>\n",
       "      <td>1982-12-31</td>\n",
       "      <td>A &amp; M FOOD SERVICES INC</td>\n",
       "      <td>1982.0</td>\n",
       "      <td>12.0</td>\n",
       "      <td>NaN</td>\n",
       "      <td>NaN</td>\n",
       "      <td>NaN</td>\n",
       "      <td>NaN</td>\n",
       "      <td>NaN</td>\n",
       "      <td>...</td>\n",
       "      <td>NaN</td>\n",
       "      <td>NaN</td>\n",
       "      <td>NaN</td>\n",
       "      <td>NaN</td>\n",
       "      <td>NaN</td>\n",
       "      <td>NaN</td>\n",
       "      <td>NaN</td>\n",
       "      <td>NaN</td>\n",
       "      <td>NaN</td>\n",
       "      <td>NaN</td>\n",
       "    </tr>\n",
       "    <tr>\n",
       "      <th>3</th>\n",
       "      <td>001001</td>\n",
       "      <td>1983-12-31</td>\n",
       "      <td>A &amp; M FOOD SERVICES INC</td>\n",
       "      <td>1983.0</td>\n",
       "      <td>12.0</td>\n",
       "      <td>14.080</td>\n",
       "      <td>3.367</td>\n",
       "      <td>7.823</td>\n",
       "      <td>6.310</td>\n",
       "      <td>3.568</td>\n",
       "      <td>...</td>\n",
       "      <td>7.823</td>\n",
       "      <td>NaN</td>\n",
       "      <td>0.000</td>\n",
       "      <td>0.144</td>\n",
       "      <td>0.000</td>\n",
       "      <td>3.618</td>\n",
       "      <td>0.763</td>\n",
       "      <td>NaN</td>\n",
       "      <td>0.0</td>\n",
       "      <td>16.435</td>\n",
       "    </tr>\n",
       "    <tr>\n",
       "      <th>4</th>\n",
       "      <td>001001</td>\n",
       "      <td>1984-12-31</td>\n",
       "      <td>A &amp; M FOOD SERVICES INC</td>\n",
       "      <td>1984.0</td>\n",
       "      <td>12.0</td>\n",
       "      <td>16.267</td>\n",
       "      <td>5.496</td>\n",
       "      <td>8.962</td>\n",
       "      <td>8.171</td>\n",
       "      <td>3.568</td>\n",
       "      <td>...</td>\n",
       "      <td>8.962</td>\n",
       "      <td>NaN</td>\n",
       "      <td>0.357</td>\n",
       "      <td>0.275</td>\n",
       "      <td>0.357</td>\n",
       "      <td>-2.993</td>\n",
       "      <td>0.661</td>\n",
       "      <td>NaN</td>\n",
       "      <td>NaN</td>\n",
       "      <td>20.628</td>\n",
       "    </tr>\n",
       "  </tbody>\n",
       "</table>\n",
       "<p>5 rows × 37 columns</p>\n",
       "</div>"
      ],
      "text/plain": [
       "    gvkey   datadate                     conm   fyear   fyr      at   capx  \\\n",
       "0  001001 1980-12-31  A & M FOOD SERVICES INC  1980.0  12.0     NaN    NaN   \n",
       "1  001001 1981-12-31  A & M FOOD SERVICES INC  1981.0  12.0     NaN    NaN   \n",
       "2  001001 1982-12-31  A & M FOOD SERVICES INC  1982.0  12.0     NaN    NaN   \n",
       "3  001001 1983-12-31  A & M FOOD SERVICES INC  1983.0  12.0  14.080  3.367   \n",
       "4  001001 1984-12-31  A & M FOOD SERVICES INC  1984.0  12.0  16.267  5.496   \n",
       "\n",
       "     ceq   cogs   csho  ...    seq  sich   txdb   txdi  txditc  wcapch   xint  \\\n",
       "0    NaN    NaN    NaN  ...    NaN   NaN    NaN    NaN     NaN     NaN    NaN   \n",
       "1    NaN    NaN    NaN  ...    NaN   NaN    NaN    NaN     NaN     NaN    NaN   \n",
       "2    NaN    NaN    NaN  ...    NaN   NaN    NaN    NaN     NaN     NaN    NaN   \n",
       "3  7.823  6.310  3.568  ...  7.823   NaN  0.000  0.144   0.000   3.618  0.763   \n",
       "4  8.962  8.171  3.568  ...  8.962   NaN  0.357  0.275   0.357  -2.993  0.661   \n",
       "\n",
       "   xlr  xrd    xsga  \n",
       "0  NaN  NaN     NaN  \n",
       "1  NaN  NaN     NaN  \n",
       "2  NaN  NaN     NaN  \n",
       "3  NaN  0.0  16.435  \n",
       "4  NaN  NaN  20.628  \n",
       "\n",
       "[5 rows x 37 columns]"
      ]
     },
     "execution_count": 4,
     "metadata": {},
     "output_type": "execute_result"
    }
   ],
   "source": [
    "# Gerneral Look\n",
    "compa.head() "
   ]
  },
  {
   "cell_type": "code",
   "execution_count": 3,
   "metadata": {
    "slideshow": {
     "slide_type": "subslide"
    }
   },
   "outputs": [
    {
     "ename": "NameError",
     "evalue": "name 'compa' is not defined",
     "output_type": "error",
     "traceback": [
      "\u001b[1;31m---------------------------------------------------------------------------\u001b[0m",
      "\u001b[1;31mNameError\u001b[0m                                 Traceback (most recent call last)",
      "\u001b[1;32m<ipython-input-3-5629c751c893>\u001b[0m in \u001b[0;36m<module>\u001b[1;34m()\u001b[0m\n\u001b[0;32m      1\u001b[0m \u001b[1;31m# Have a sense about missings\u001b[0m\u001b[1;33m\u001b[0m\u001b[1;33m\u001b[0m\u001b[0m\n\u001b[1;32m----> 2\u001b[1;33m \u001b[0mcompa\u001b[0m\u001b[1;33m[\u001b[0m\u001b[1;34m'at'\u001b[0m\u001b[1;33m]\u001b[0m\u001b[1;33m.\u001b[0m\u001b[0misnull\u001b[0m\u001b[1;33m(\u001b[0m\u001b[1;33m)\u001b[0m\u001b[1;33m.\u001b[0m\u001b[0mmean\u001b[0m\u001b[1;33m(\u001b[0m\u001b[1;33m)\u001b[0m\u001b[1;33m*\u001b[0m\u001b[1;36m100\u001b[0m\u001b[1;33m\u001b[0m\u001b[0m\n\u001b[0m",
      "\u001b[1;31mNameError\u001b[0m: name 'compa' is not defined"
     ]
    }
   ],
   "source": [
    "# Have a sense about missings\n",
    "compa['at'].isnull().mean()*100"
   ]
  },
  {
   "cell_type": "markdown",
   "metadata": {
    "slideshow": {
     "slide_type": "slide"
    }
   },
   "source": [
    "# Data Consistency "
   ]
  },
  {
   "cell_type": "markdown",
   "metadata": {
    "slideshow": {
     "slide_type": "fragment"
    }
   },
   "source": [
    "## Primary Keys\n",
    "\n",
    "\n",
    "* We are looking at Annual data\n",
    "* Logic says that that we should have one company (gvkey) per year (fyear)\n",
    "* But remember, the primary key for funda is (gvkey and datadate)\n",
    "* Question: Can a firm have two datadate for the same year?\n"
   ]
  },
  {
   "cell_type": "code",
   "execution_count": 6,
   "metadata": {
    "slideshow": {
     "slide_type": "subslide"
    }
   },
   "outputs": [
    {
     "data": {
      "text/plain": [
       "0"
      ]
     },
     "execution_count": 6,
     "metadata": {},
     "output_type": "execute_result"
    }
   ],
   "source": [
    "# It is always good to check if we have the right PK\n",
    "compa.duplicated(['gvkey', 'datadate']).sum()"
   ]
  },
  {
   "cell_type": "code",
   "execution_count": 7,
   "metadata": {
    "slideshow": {
     "slide_type": "subslide"
    }
   },
   "outputs": [
    {
     "data": {
      "text/plain": [
       "2"
      ]
     },
     "execution_count": 7,
     "metadata": {},
     "output_type": "execute_result"
    }
   ],
   "source": [
    "# Is (gvkey, fyear) PK?\n",
    "compa.duplicated(['gvkey', 'fyear']).sum()"
   ]
  },
  {
   "cell_type": "code",
   "execution_count": 8,
   "metadata": {
    "slideshow": {
     "slide_type": "subslide"
    }
   },
   "outputs": [
    {
     "data": {
      "text/html": [
       "<div>\n",
       "<style scoped>\n",
       "    .dataframe tbody tr th:only-of-type {\n",
       "        vertical-align: middle;\n",
       "    }\n",
       "\n",
       "    .dataframe tbody tr th {\n",
       "        vertical-align: top;\n",
       "    }\n",
       "\n",
       "    .dataframe thead th {\n",
       "        text-align: right;\n",
       "    }\n",
       "</style>\n",
       "<table border=\"1\" class=\"dataframe\">\n",
       "  <thead>\n",
       "    <tr style=\"text-align: right;\">\n",
       "      <th></th>\n",
       "      <th>gvkey</th>\n",
       "      <th>datadate</th>\n",
       "      <th>conm</th>\n",
       "      <th>fyear</th>\n",
       "      <th>fyr</th>\n",
       "      <th>at</th>\n",
       "      <th>capx</th>\n",
       "      <th>ceq</th>\n",
       "      <th>cogs</th>\n",
       "      <th>csho</th>\n",
       "      <th>...</th>\n",
       "      <th>seq</th>\n",
       "      <th>sich</th>\n",
       "      <th>txdb</th>\n",
       "      <th>txdi</th>\n",
       "      <th>txditc</th>\n",
       "      <th>wcapch</th>\n",
       "      <th>xint</th>\n",
       "      <th>xlr</th>\n",
       "      <th>xrd</th>\n",
       "      <th>xsga</th>\n",
       "    </tr>\n",
       "  </thead>\n",
       "  <tbody>\n",
       "    <tr>\n",
       "      <th>64260</th>\n",
       "      <td>006557</td>\n",
       "      <td>1982-08-31</td>\n",
       "      <td>LAIDLAW INTERNATIONAL INC</td>\n",
       "      <td>1982.0</td>\n",
       "      <td>8.0</td>\n",
       "      <td>251.360</td>\n",
       "      <td>47.089</td>\n",
       "      <td>63.491</td>\n",
       "      <td>213.686</td>\n",
       "      <td>11.584</td>\n",
       "      <td>...</td>\n",
       "      <td>84.314</td>\n",
       "      <td>NaN</td>\n",
       "      <td>19.938</td>\n",
       "      <td>2.672</td>\n",
       "      <td>19.938</td>\n",
       "      <td>13.777</td>\n",
       "      <td>14.309</td>\n",
       "      <td>NaN</td>\n",
       "      <td>NaN</td>\n",
       "      <td>NaN</td>\n",
       "    </tr>\n",
       "    <tr>\n",
       "      <th>64262</th>\n",
       "      <td>006557</td>\n",
       "      <td>1983-08-31</td>\n",
       "      <td>LAIDLAW INTERNATIONAL INC</td>\n",
       "      <td>1983.0</td>\n",
       "      <td>8.0</td>\n",
       "      <td>328.891</td>\n",
       "      <td>78.264</td>\n",
       "      <td>103.481</td>\n",
       "      <td>232.581</td>\n",
       "      <td>26.168</td>\n",
       "      <td>...</td>\n",
       "      <td>120.161</td>\n",
       "      <td>NaN</td>\n",
       "      <td>25.469</td>\n",
       "      <td>5.533</td>\n",
       "      <td>25.469</td>\n",
       "      <td>3.109</td>\n",
       "      <td>8.879</td>\n",
       "      <td>NaN</td>\n",
       "      <td>NaN</td>\n",
       "      <td>17.218</td>\n",
       "    </tr>\n",
       "  </tbody>\n",
       "</table>\n",
       "<p>2 rows × 37 columns</p>\n",
       "</div>"
      ],
      "text/plain": [
       "        gvkey   datadate                       conm   fyear  fyr       at  \\\n",
       "64260  006557 1982-08-31  LAIDLAW INTERNATIONAL INC  1982.0  8.0  251.360   \n",
       "64262  006557 1983-08-31  LAIDLAW INTERNATIONAL INC  1983.0  8.0  328.891   \n",
       "\n",
       "         capx      ceq     cogs    csho  ...      seq  sich    txdb   txdi  \\\n",
       "64260  47.089   63.491  213.686  11.584  ...   84.314   NaN  19.938  2.672   \n",
       "64262  78.264  103.481  232.581  26.168  ...  120.161   NaN  25.469  5.533   \n",
       "\n",
       "       txditc  wcapch    xint  xlr  xrd    xsga  \n",
       "64260  19.938  13.777  14.309  NaN  NaN     NaN  \n",
       "64262  25.469   3.109   8.879  NaN  NaN  17.218  \n",
       "\n",
       "[2 rows x 37 columns]"
      ]
     },
     "execution_count": 8,
     "metadata": {},
     "output_type": "execute_result"
    }
   ],
   "source": [
    "# Check duplicates\n",
    "compa[compa.duplicated(['gvkey', 'fyear'],keep='last')]"
   ]
  },
  {
   "cell_type": "code",
   "execution_count": 9,
   "metadata": {
    "slideshow": {
     "slide_type": "subslide"
    }
   },
   "outputs": [
    {
     "data": {
      "text/html": [
       "<div>\n",
       "<style scoped>\n",
       "    .dataframe tbody tr th:only-of-type {\n",
       "        vertical-align: middle;\n",
       "    }\n",
       "\n",
       "    .dataframe tbody tr th {\n",
       "        vertical-align: top;\n",
       "    }\n",
       "\n",
       "    .dataframe thead th {\n",
       "        text-align: right;\n",
       "    }\n",
       "</style>\n",
       "<table border=\"1\" class=\"dataframe\">\n",
       "  <thead>\n",
       "    <tr style=\"text-align: right;\">\n",
       "      <th></th>\n",
       "      <th>gvkey</th>\n",
       "      <th>datadate</th>\n",
       "      <th>fyear</th>\n",
       "      <th>fyr</th>\n",
       "      <th>conm</th>\n",
       "      <th>at</th>\n",
       "    </tr>\n",
       "  </thead>\n",
       "  <tbody>\n",
       "    <tr>\n",
       "      <th>64258</th>\n",
       "      <td>006557</td>\n",
       "      <td>1980-08-31</td>\n",
       "      <td>1980.0</td>\n",
       "      <td>8.0</td>\n",
       "      <td>LAIDLAW INTERNATIONAL INC</td>\n",
       "      <td>201.266</td>\n",
       "    </tr>\n",
       "    <tr>\n",
       "      <th>64259</th>\n",
       "      <td>006557</td>\n",
       "      <td>1981-08-31</td>\n",
       "      <td>1981.0</td>\n",
       "      <td>8.0</td>\n",
       "      <td>LAIDLAW INTERNATIONAL INC</td>\n",
       "      <td>242.081</td>\n",
       "    </tr>\n",
       "    <tr>\n",
       "      <th>64260</th>\n",
       "      <td>006557</td>\n",
       "      <td>1982-08-31</td>\n",
       "      <td>1982.0</td>\n",
       "      <td>8.0</td>\n",
       "      <td>LAIDLAW INTERNATIONAL INC</td>\n",
       "      <td>251.360</td>\n",
       "    </tr>\n",
       "    <tr>\n",
       "      <th>64261</th>\n",
       "      <td>006557</td>\n",
       "      <td>1982-12-31</td>\n",
       "      <td>1982.0</td>\n",
       "      <td>12.0</td>\n",
       "      <td>LAIDLAW INTERNATIONAL INC</td>\n",
       "      <td>NaN</td>\n",
       "    </tr>\n",
       "    <tr>\n",
       "      <th>64262</th>\n",
       "      <td>006557</td>\n",
       "      <td>1983-08-31</td>\n",
       "      <td>1983.0</td>\n",
       "      <td>8.0</td>\n",
       "      <td>LAIDLAW INTERNATIONAL INC</td>\n",
       "      <td>328.891</td>\n",
       "    </tr>\n",
       "    <tr>\n",
       "      <th>64263</th>\n",
       "      <td>006557</td>\n",
       "      <td>1983-12-31</td>\n",
       "      <td>1983.0</td>\n",
       "      <td>12.0</td>\n",
       "      <td>LAIDLAW INTERNATIONAL INC</td>\n",
       "      <td>NaN</td>\n",
       "    </tr>\n",
       "    <tr>\n",
       "      <th>64264</th>\n",
       "      <td>006557</td>\n",
       "      <td>1984-08-31</td>\n",
       "      <td>1984.0</td>\n",
       "      <td>8.0</td>\n",
       "      <td>LAIDLAW INTERNATIONAL INC</td>\n",
       "      <td>426.880</td>\n",
       "    </tr>\n",
       "    <tr>\n",
       "      <th>64265</th>\n",
       "      <td>006557</td>\n",
       "      <td>1985-08-31</td>\n",
       "      <td>1985.0</td>\n",
       "      <td>8.0</td>\n",
       "      <td>LAIDLAW INTERNATIONAL INC</td>\n",
       "      <td>652.477</td>\n",
       "    </tr>\n",
       "    <tr>\n",
       "      <th>64266</th>\n",
       "      <td>006557</td>\n",
       "      <td>1986-08-31</td>\n",
       "      <td>1986.0</td>\n",
       "      <td>8.0</td>\n",
       "      <td>LAIDLAW INTERNATIONAL INC</td>\n",
       "      <td>901.769</td>\n",
       "    </tr>\n",
       "    <tr>\n",
       "      <th>64267</th>\n",
       "      <td>006557</td>\n",
       "      <td>1987-08-31</td>\n",
       "      <td>1987.0</td>\n",
       "      <td>8.0</td>\n",
       "      <td>LAIDLAW INTERNATIONAL INC</td>\n",
       "      <td>1655.019</td>\n",
       "    </tr>\n",
       "    <tr>\n",
       "      <th>64268</th>\n",
       "      <td>006557</td>\n",
       "      <td>1988-08-31</td>\n",
       "      <td>1988.0</td>\n",
       "      <td>8.0</td>\n",
       "      <td>LAIDLAW INTERNATIONAL INC</td>\n",
       "      <td>1636.927</td>\n",
       "    </tr>\n",
       "    <tr>\n",
       "      <th>64269</th>\n",
       "      <td>006557</td>\n",
       "      <td>1989-08-31</td>\n",
       "      <td>1989.0</td>\n",
       "      <td>8.0</td>\n",
       "      <td>LAIDLAW INTERNATIONAL INC</td>\n",
       "      <td>2651.276</td>\n",
       "    </tr>\n",
       "    <tr>\n",
       "      <th>64270</th>\n",
       "      <td>006557</td>\n",
       "      <td>1990-08-31</td>\n",
       "      <td>1990.0</td>\n",
       "      <td>8.0</td>\n",
       "      <td>LAIDLAW INTERNATIONAL INC</td>\n",
       "      <td>3894.939</td>\n",
       "    </tr>\n",
       "    <tr>\n",
       "      <th>64271</th>\n",
       "      <td>006557</td>\n",
       "      <td>1991-08-31</td>\n",
       "      <td>1991.0</td>\n",
       "      <td>8.0</td>\n",
       "      <td>LAIDLAW INTERNATIONAL INC</td>\n",
       "      <td>3595.316</td>\n",
       "    </tr>\n",
       "    <tr>\n",
       "      <th>64272</th>\n",
       "      <td>006557</td>\n",
       "      <td>1992-08-31</td>\n",
       "      <td>1992.0</td>\n",
       "      <td>8.0</td>\n",
       "      <td>LAIDLAW INTERNATIONAL INC</td>\n",
       "      <td>3658.935</td>\n",
       "    </tr>\n",
       "    <tr>\n",
       "      <th>64273</th>\n",
       "      <td>006557</td>\n",
       "      <td>1993-08-31</td>\n",
       "      <td>1993.0</td>\n",
       "      <td>8.0</td>\n",
       "      <td>LAIDLAW INTERNATIONAL INC</td>\n",
       "      <td>3575.082</td>\n",
       "    </tr>\n",
       "    <tr>\n",
       "      <th>64274</th>\n",
       "      <td>006557</td>\n",
       "      <td>1994-08-31</td>\n",
       "      <td>1994.0</td>\n",
       "      <td>8.0</td>\n",
       "      <td>LAIDLAW INTERNATIONAL INC</td>\n",
       "      <td>3633.200</td>\n",
       "    </tr>\n",
       "    <tr>\n",
       "      <th>64275</th>\n",
       "      <td>006557</td>\n",
       "      <td>1995-08-31</td>\n",
       "      <td>1995.0</td>\n",
       "      <td>8.0</td>\n",
       "      <td>LAIDLAW INTERNATIONAL INC</td>\n",
       "      <td>4286.300</td>\n",
       "    </tr>\n",
       "    <tr>\n",
       "      <th>64276</th>\n",
       "      <td>006557</td>\n",
       "      <td>1996-08-31</td>\n",
       "      <td>1996.0</td>\n",
       "      <td>8.0</td>\n",
       "      <td>LAIDLAW INTERNATIONAL INC</td>\n",
       "      <td>4932.300</td>\n",
       "    </tr>\n",
       "    <tr>\n",
       "      <th>64277</th>\n",
       "      <td>006557</td>\n",
       "      <td>1997-08-31</td>\n",
       "      <td>1997.0</td>\n",
       "      <td>8.0</td>\n",
       "      <td>LAIDLAW INTERNATIONAL INC</td>\n",
       "      <td>6117.100</td>\n",
       "    </tr>\n",
       "    <tr>\n",
       "      <th>64278</th>\n",
       "      <td>006557</td>\n",
       "      <td>1998-08-31</td>\n",
       "      <td>1998.0</td>\n",
       "      <td>8.0</td>\n",
       "      <td>LAIDLAW INTERNATIONAL INC</td>\n",
       "      <td>6184.600</td>\n",
       "    </tr>\n",
       "    <tr>\n",
       "      <th>64279</th>\n",
       "      <td>006557</td>\n",
       "      <td>1999-08-31</td>\n",
       "      <td>1999.0</td>\n",
       "      <td>8.0</td>\n",
       "      <td>LAIDLAW INTERNATIONAL INC</td>\n",
       "      <td>5754.300</td>\n",
       "    </tr>\n",
       "    <tr>\n",
       "      <th>64280</th>\n",
       "      <td>006557</td>\n",
       "      <td>2000-08-31</td>\n",
       "      <td>2000.0</td>\n",
       "      <td>8.0</td>\n",
       "      <td>LAIDLAW INTERNATIONAL INC</td>\n",
       "      <td>4000.100</td>\n",
       "    </tr>\n",
       "    <tr>\n",
       "      <th>64281</th>\n",
       "      <td>006557</td>\n",
       "      <td>2001-08-31</td>\n",
       "      <td>2001.0</td>\n",
       "      <td>8.0</td>\n",
       "      <td>LAIDLAW INTERNATIONAL INC</td>\n",
       "      <td>4209.800</td>\n",
       "    </tr>\n",
       "    <tr>\n",
       "      <th>64282</th>\n",
       "      <td>006557</td>\n",
       "      <td>2002-08-31</td>\n",
       "      <td>2002.0</td>\n",
       "      <td>8.0</td>\n",
       "      <td>LAIDLAW INTERNATIONAL INC</td>\n",
       "      <td>4091.100</td>\n",
       "    </tr>\n",
       "    <tr>\n",
       "      <th>64283</th>\n",
       "      <td>006557</td>\n",
       "      <td>2003-08-31</td>\n",
       "      <td>2003.0</td>\n",
       "      <td>8.0</td>\n",
       "      <td>LAIDLAW INTERNATIONAL INC</td>\n",
       "      <td>3852.700</td>\n",
       "    </tr>\n",
       "    <tr>\n",
       "      <th>64284</th>\n",
       "      <td>006557</td>\n",
       "      <td>2004-08-31</td>\n",
       "      <td>2004.0</td>\n",
       "      <td>8.0</td>\n",
       "      <td>LAIDLAW INTERNATIONAL INC</td>\n",
       "      <td>3905.200</td>\n",
       "    </tr>\n",
       "    <tr>\n",
       "      <th>64285</th>\n",
       "      <td>006557</td>\n",
       "      <td>2005-08-31</td>\n",
       "      <td>2005.0</td>\n",
       "      <td>8.0</td>\n",
       "      <td>LAIDLAW INTERNATIONAL INC</td>\n",
       "      <td>2908.700</td>\n",
       "    </tr>\n",
       "    <tr>\n",
       "      <th>64286</th>\n",
       "      <td>006557</td>\n",
       "      <td>2006-08-31</td>\n",
       "      <td>2006.0</td>\n",
       "      <td>8.0</td>\n",
       "      <td>LAIDLAW INTERNATIONAL INC</td>\n",
       "      <td>3038.700</td>\n",
       "    </tr>\n",
       "  </tbody>\n",
       "</table>\n",
       "</div>"
      ],
      "text/plain": [
       "        gvkey   datadate   fyear   fyr                       conm        at\n",
       "64258  006557 1980-08-31  1980.0   8.0  LAIDLAW INTERNATIONAL INC   201.266\n",
       "64259  006557 1981-08-31  1981.0   8.0  LAIDLAW INTERNATIONAL INC   242.081\n",
       "64260  006557 1982-08-31  1982.0   8.0  LAIDLAW INTERNATIONAL INC   251.360\n",
       "64261  006557 1982-12-31  1982.0  12.0  LAIDLAW INTERNATIONAL INC       NaN\n",
       "64262  006557 1983-08-31  1983.0   8.0  LAIDLAW INTERNATIONAL INC   328.891\n",
       "64263  006557 1983-12-31  1983.0  12.0  LAIDLAW INTERNATIONAL INC       NaN\n",
       "64264  006557 1984-08-31  1984.0   8.0  LAIDLAW INTERNATIONAL INC   426.880\n",
       "64265  006557 1985-08-31  1985.0   8.0  LAIDLAW INTERNATIONAL INC   652.477\n",
       "64266  006557 1986-08-31  1986.0   8.0  LAIDLAW INTERNATIONAL INC   901.769\n",
       "64267  006557 1987-08-31  1987.0   8.0  LAIDLAW INTERNATIONAL INC  1655.019\n",
       "64268  006557 1988-08-31  1988.0   8.0  LAIDLAW INTERNATIONAL INC  1636.927\n",
       "64269  006557 1989-08-31  1989.0   8.0  LAIDLAW INTERNATIONAL INC  2651.276\n",
       "64270  006557 1990-08-31  1990.0   8.0  LAIDLAW INTERNATIONAL INC  3894.939\n",
       "64271  006557 1991-08-31  1991.0   8.0  LAIDLAW INTERNATIONAL INC  3595.316\n",
       "64272  006557 1992-08-31  1992.0   8.0  LAIDLAW INTERNATIONAL INC  3658.935\n",
       "64273  006557 1993-08-31  1993.0   8.0  LAIDLAW INTERNATIONAL INC  3575.082\n",
       "64274  006557 1994-08-31  1994.0   8.0  LAIDLAW INTERNATIONAL INC  3633.200\n",
       "64275  006557 1995-08-31  1995.0   8.0  LAIDLAW INTERNATIONAL INC  4286.300\n",
       "64276  006557 1996-08-31  1996.0   8.0  LAIDLAW INTERNATIONAL INC  4932.300\n",
       "64277  006557 1997-08-31  1997.0   8.0  LAIDLAW INTERNATIONAL INC  6117.100\n",
       "64278  006557 1998-08-31  1998.0   8.0  LAIDLAW INTERNATIONAL INC  6184.600\n",
       "64279  006557 1999-08-31  1999.0   8.0  LAIDLAW INTERNATIONAL INC  5754.300\n",
       "64280  006557 2000-08-31  2000.0   8.0  LAIDLAW INTERNATIONAL INC  4000.100\n",
       "64281  006557 2001-08-31  2001.0   8.0  LAIDLAW INTERNATIONAL INC  4209.800\n",
       "64282  006557 2002-08-31  2002.0   8.0  LAIDLAW INTERNATIONAL INC  4091.100\n",
       "64283  006557 2003-08-31  2003.0   8.0  LAIDLAW INTERNATIONAL INC  3852.700\n",
       "64284  006557 2004-08-31  2004.0   8.0  LAIDLAW INTERNATIONAL INC  3905.200\n",
       "64285  006557 2005-08-31  2005.0   8.0  LAIDLAW INTERNATIONAL INC  2908.700\n",
       "64286  006557 2006-08-31  2006.0   8.0  LAIDLAW INTERNATIONAL INC  3038.700"
      ]
     },
     "execution_count": 9,
     "metadata": {},
     "output_type": "execute_result"
    }
   ],
   "source": [
    "# Example of a company that have two reports for the same year\n",
    "compa.loc[compa.gvkey=='006557',['gvkey','datadate','fyear','fyr','conm', 'at']]"
   ]
  },
  {
   "cell_type": "code",
   "execution_count": 10,
   "metadata": {
    "slideshow": {
     "slide_type": "subslide"
    }
   },
   "outputs": [],
   "source": [
    "# How to deal with duplicates? Keep last available entry (datadate)\n",
    "compa.dropna(subset=['fyear'], inplace=True)\n",
    "compa.sort_values(['gvkey','fyear','at'], inplace=True)\n",
    "compa = compa[~compa.duplicated(['gvkey', 'fyear'], keep='first')]"
   ]
  },
  {
   "cell_type": "code",
   "execution_count": 11,
   "metadata": {
    "slideshow": {
     "slide_type": "subslide"
    }
   },
   "outputs": [
    {
     "data": {
      "text/plain": [
       "0"
      ]
     },
     "execution_count": 11,
     "metadata": {},
     "output_type": "execute_result"
    }
   ],
   "source": [
    "# Always check your result\n",
    "compa.duplicated(['gvkey', 'fyear']).sum()"
   ]
  },
  {
   "cell_type": "markdown",
   "metadata": {
    "slideshow": {
     "slide_type": "slide"
    }
   },
   "source": [
    "# Calculate Variables of Interest"
   ]
  },
  {
   "cell_type": "markdown",
   "metadata": {
    "slideshow": {
     "slide_type": "slide"
    }
   },
   "source": [
    "## Book Equity\n",
    "\n",
    "Daniel, Mota, Rottke, Santos (2018) BE definition:\n",
    "\n",
    "Stockholders book equity, minus the book value of preferred stock, plus balance sheet deferred taxes (if available and fiscal year is < 1993), minus investment tax credit (if available), minus post-retirement benefit assets (PRBA) if available. \n",
    "\n",
    "Stockholders book equity is shareholder equity (SEQ), common equity (CEQ) plus preferred stock (PSTK) or total\n",
    "assets (AT) minus liabilities (LT) plus minority interest (MIB, if available) (depending on availability, in that order). \n",
    "\n",
    "Book value of preferred stock is redemption (PSTKRV), liquidation (PSTKL), or par value (PSTK) (depending on availability, in that order). \n",
    "\n",
    "Deferred taxes is deferred taxes and investment tax credit (TXDITC) or deferred taxes and investment tax credit (TXDB) plus investment tax credit (ITCB) (depending on availability, in that order).\n"
   ]
  },
  {
   "cell_type": "code",
   "execution_count": 12,
   "metadata": {
    "slideshow": {
     "slide_type": "subslide"
    }
   },
   "outputs": [],
   "source": [
    "#%% Calculating BE\n",
    "\n",
    "# Shareholder Equity\n",
    "compa['se'] = compa['seq']\n",
    "\n",
    "# Uses Common Equity (ceq) + Preferred Stock (pstk) if SEQ is missing:\n",
    "compa['se'].fillna((compa['ceq'] + compa['pstk']), inplace=True)\n",
    "\n",
    "# Uses Total Assets (at) - Liabilities (lt) + Minority Interest (mib, if available), if others are missing\n",
    "compa['se'].fillna((compa['at'] - compa['lt'] + compa['mib'].fillna(0)), inplace=True)\n"
   ]
  },
  {
   "cell_type": "code",
   "execution_count": 13,
   "metadata": {
    "slideshow": {
     "slide_type": "subslide"
    }
   },
   "outputs": [],
   "source": [
    "# Preferred Stock\n",
    "# Preferred Stock (Redemption Value)\n",
    "compa['ps'] = compa['pstkrv']\n",
    "# Uses Preferred Stock (Liquidating Value (pstkl)) if Preferred Stock (Redemption Value) is missing\n",
    "compa['ps'].fillna(compa['pstkl'], inplace=True)\n",
    "# Uses Preferred Stock (Carrying Value (pstk)) if others are missing\n",
    "compa['ps'].fillna(compa['pstk'], inplace=True)"
   ]
  },
  {
   "cell_type": "code",
   "execution_count": 14,
   "metadata": {
    "slideshow": {
     "slide_type": "subslide"
    }
   },
   "outputs": [],
   "source": [
    "# Deferred Taxes\n",
    "# Uses Deferred Taxes and Investment Tax Credit (txditc)\n",
    "compa['dt'] = compa['txditc']\n",
    "\n",
    "# This was Novy-Marx old legacy code. We drop this part to be in accordance with Ken French.\n",
    "# Uses Deferred Taxes and Investment Tax Credit(txdb) + Investment Tax Credit (Balance Sheet) (itcb) if txditc is missing\n",
    "compa['dt'].fillna((compa['txdb'].fillna(0) + compa['itcb'].fillna(0)), inplace=True)\n",
    "# If all measures are missing, set n  to missing\n",
    "compa.loc[pd.isnull(compa['txditc']) & pd.isnull(compa['txdb']) & pd.isnull(compa['itcb']), 'dt'] = np.nan\n",
    "\n",
    "compa.loc[compa['fyear'] >= 1993, 'dt'] = 0"
   ]
  },
  {
   "cell_type": "code",
   "execution_count": 15,
   "metadata": {
    "slideshow": {
     "slide_type": "subslide"
    }
   },
   "outputs": [],
   "source": [
    "# Book Equity\n",
    "# Book Equity (BE) = Share Equity (se) - Prefered Stocks (ps) + Deferred Taxes (dt)\n",
    "compa['be'] = (compa['se']  # shareholder equity must be available, otherwise BE is missing\n",
    "               - compa['ps']  # preferred stock must be available, otherwise BE is missing\n",
    "               + compa['dt'].fillna(0))  # add deferred taxes if available\n",
    "               #- compa['prba'].fillna(0))  # subtract postretirement benefit assets if available"
   ]
  },
  {
   "cell_type": "markdown",
   "metadata": {
    "slideshow": {
     "slide_type": "subslide"
    }
   },
   "source": [
    "**Always look at your data...**"
   ]
  },
  {
   "cell_type": "code",
   "execution_count": 16,
   "metadata": {
    "slideshow": {
     "slide_type": "subslide"
    }
   },
   "outputs": [
    {
     "data": {
      "text/plain": [
       "0.15532350059787026"
      ]
     },
     "execution_count": 16,
     "metadata": {},
     "output_type": "execute_result"
    }
   ],
   "source": [
    "# Missings\n",
    "compa.be.isnull().mean()"
   ]
  },
  {
   "cell_type": "code",
   "execution_count": 17,
   "metadata": {
    "slideshow": {
     "slide_type": "subslide"
    }
   },
   "outputs": [
    {
     "data": {
      "text/plain": [
       "<matplotlib.axes._subplots.AxesSubplot at 0x2c72fd17080>"
      ]
     },
     "execution_count": 17,
     "metadata": {},
     "output_type": "execute_result"
    },
    {
     "data": {
      "image/png": "[encoded data removed]",
      "text/plain": [
       "<Figure size 432x288 with 1 Axes>"
      ]
     },
     "metadata": {},
     "output_type": "display_data"
    }
   ],
   "source": [
    "compa.be.hist() "
   ]
  },
  {
   "cell_type": "code",
   "execution_count": 18,
   "metadata": {
    "slideshow": {
     "slide_type": "subslide"
    }
   },
   "outputs": [
    {
     "data": {
      "text/plain": [
       "0.09676167934020659"
      ]
     },
     "execution_count": 18,
     "metadata": {},
     "output_type": "execute_result"
    }
   ],
   "source": [
    "# Does it make sense to have a negative BE?\n",
    "(compa.be<0).mean()  "
   ]
  },
  {
   "cell_type": "code",
   "execution_count": 19,
   "metadata": {
    "slideshow": {
     "slide_type": "subslide"
    }
   },
   "outputs": [
    {
     "data": {
      "text/plain": [
       "<matplotlib.axes._subplots.AxesSubplot at 0x2c73dfb99b0>"
      ]
     },
     "execution_count": 19,
     "metadata": {},
     "output_type": "execute_result"
    },
    {
     "data": {
      "image/png": "[encoded data removed]",
      "text/plain": [
       "<Figure size 432x288 with 1 Axes>"
      ]
     },
     "metadata": {},
     "output_type": "display_data"
    }
   ],
   "source": [
    "compa[(compa.be>0)&(compa.be<10e3)].be.hist()"
   ]
  },
  {
   "cell_type": "markdown",
   "metadata": {
    "slideshow": {
     "slide_type": "slide"
    }
   },
   "source": [
    "## Operating Profitability (OPBE)\n",
    "\n",
    "Daniel, Mota, Rottke, Santos (2018) OPBE definition:\n",
    "\n",
    "Operating profits to book equity (BE) ratio. \n",
    "\n",
    "Operating profits is sales (SALE) minus cost of goods sold (COGS), minus selling, general, and administrative expenses (XSGA),\n",
    "minus interest expense (XINT). In order to be non-missing, SALE must be non-missing, at least one of the other entries must be non-missing and BE must be greater than zero."
   ]
  },
  {
   "cell_type": "code",
   "execution_count": 20,
   "metadata": {
    "slideshow": {
     "slide_type": "subslide"
    }
   },
   "outputs": [],
   "source": [
    "# COST = COGS + XSGA - XINT \n",
    "compa['cost'] = compa[['cogs', 'xsga', 'xint']].sum(axis=1, skipna=True)\n",
    "compa.loc[compa[['cogs', 'xsga', 'xint']].isnull().all(axis=1), 'cost'] = np.nan"
   ]
  },
  {
   "cell_type": "code",
   "execution_count": 21,
   "metadata": {
    "slideshow": {
     "slide_type": "subslide"
    }
   },
   "outputs": [],
   "source": [
    "# OP = SALE -COST    \n",
    "compa['op'] = compa['sale']-compa['cost']"
   ]
  },
  {
   "cell_type": "markdown",
   "metadata": {
    "slideshow": {
     "slide_type": "subslide"
    }
   },
   "source": [
    "**Always look at your data...**"
   ]
  },
  {
   "cell_type": "code",
   "execution_count": 22,
   "metadata": {
    "slideshow": {
     "slide_type": "subslide"
    }
   },
   "outputs": [
    {
     "data": {
      "text/plain": [
       "0.15947053494042168"
      ]
     },
     "execution_count": 22,
     "metadata": {},
     "output_type": "execute_result"
    }
   ],
   "source": [
    "# Look at missings\n",
    "compa.op.isnull().mean()"
   ]
  },
  {
   "cell_type": "code",
   "execution_count": 23,
   "metadata": {
    "slideshow": {
     "slide_type": "subslide"
    }
   },
   "outputs": [
    {
     "data": {
      "text/plain": [
       "<matplotlib.axes._subplots.AxesSubplot at 0x2c730f52e48>"
      ]
     },
     "execution_count": 23,
     "metadata": {},
     "output_type": "execute_result"
    },
    {
     "data": {
      "image/png": "[encoded data removed]",
      "text/plain": [
       "<Figure size 432x288 with 1 Axes>"
      ]
     },
     "metadata": {},
     "output_type": "display_data"
    }
   ],
   "source": [
    "compa[compa.fyear==2017].op.hist()"
   ]
  },
  {
   "cell_type": "code",
   "execution_count": 24,
   "metadata": {
    "slideshow": {
     "slide_type": "subslide"
    }
   },
   "outputs": [
    {
     "data": {
      "text/plain": [
       "gvkey       001690\n",
       "conm     APPLE INC\n",
       "op           78325\n",
       "be          107147\n",
       "at          365725\n",
       "Name: 7924, dtype: object"
      ]
     },
     "execution_count": 24,
     "metadata": {},
     "output_type": "execute_result"
    }
   ],
   "source": [
    "# Which was the most profitable company in 2017?\n",
    "compa.loc[compa[compa.fyear==2018].op.idxmax(),['gvkey','conm','op','be','at']]"
   ]
  },
  {
   "cell_type": "code",
   "execution_count": 25,
   "metadata": {
    "slideshow": {
     "slide_type": "subslide"
    }
   },
   "outputs": [
    {
     "data": {
      "text/plain": [
       "<matplotlib.axes._subplots.AxesSubplot at 0x2c7316c0160>"
      ]
     },
     "execution_count": 25,
     "metadata": {},
     "output_type": "execute_result"
    },
    {
     "data": {
      "image/png": "[encoded data removed]",
      "text/plain": [
       "<Figure size 432x288 with 1 Axes>"
      ]
     },
     "metadata": {},
     "output_type": "display_data"
    }
   ],
   "source": [
    "# Plot\n",
    "compa[compa.gvkey=='001690'].set_index('fyear').op.plot(title = \"Apple's OP\", grid=True)"
   ]
  },
  {
   "cell_type": "code",
   "execution_count": 26,
   "metadata": {
    "slideshow": {
     "slide_type": "subslide"
    }
   },
   "outputs": [],
   "source": [
    "# Calculate OPBE\n",
    "compa.loc[(compa.be > 0), 'opbe'] = compa['op']/compa['be']"
   ]
  },
  {
   "cell_type": "markdown",
   "metadata": {
    "slideshow": {
     "slide_type": "subslide"
    }
   },
   "source": [
    "**What do we do now?**"
   ]
  },
  {
   "cell_type": "markdown",
   "metadata": {
    "slideshow": {
     "slide_type": "fragment"
    }
   },
   "source": [
    "Look at the data..."
   ]
  },
  {
   "cell_type": "code",
   "execution_count": 27,
   "metadata": {
    "slideshow": {
     "slide_type": "subslide"
    }
   },
   "outputs": [
    {
     "data": {
      "text/plain": [
       "0.25792147397729814"
      ]
     },
     "execution_count": 27,
     "metadata": {},
     "output_type": "execute_result"
    }
   ],
   "source": [
    "# Look at missings\n",
    "compa.opbe.isnull().mean()"
   ]
  },
  {
   "cell_type": "code",
   "execution_count": 28,
   "metadata": {
    "slideshow": {
     "slide_type": "subslide"
    }
   },
   "outputs": [
    {
     "data": {
      "text/plain": [
       "<matplotlib.axes._subplots.AxesSubplot at 0x2c73264aa90>"
      ]
     },
     "execution_count": 28,
     "metadata": {},
     "output_type": "execute_result"
    },
    {
     "data": {
      "image/png": "[encoded data removed]",
      "text/plain": [
       "<Figure size 432x288 with 1 Axes>"
      ]
     },
     "metadata": {},
     "output_type": "display_data"
    }
   ],
   "source": [
    "# Be careful with ratios\n",
    "compa.opbe.hist()"
   ]
  },
  {
   "cell_type": "code",
   "execution_count": 29,
   "metadata": {
    "slideshow": {
     "slide_type": "subslide"
    }
   },
   "outputs": [
    {
     "data": {
      "text/plain": [
       "<matplotlib.axes._subplots.AxesSubplot at 0x2c7326fdac8>"
      ]
     },
     "execution_count": 29,
     "metadata": {},
     "output_type": "execute_result"
    },
    {
     "data": {
      "image/png": "[encoded data removed]",
      "text/plain": [
       "<Figure size 432x288 with 1 Axes>"
      ]
     },
     "metadata": {},
     "output_type": "display_data"
    }
   ],
   "source": [
    "# Plot\n",
    "compa[compa.gvkey=='001690'].set_index('fyear').opbe.plot(title = \"Apple's OPBE\", grid=True)"
   ]
  },
  {
   "cell_type": "markdown",
   "metadata": {
    "slideshow": {
     "slide_type": "slide"
    }
   },
   "source": [
    "## Investment (INV)\n",
    "\n",
    "Daniel, Mota, Rottke, Santos (2018) OP definition:\n",
    "\n",
    "Total asset (AT) growth $(AT_t/AT_{t-1} - 1)$. \n",
    "\n",
    "We consider PERMCO as company's identification key. AT must be greater than zero to be not missing.\n"
   ]
  },
  {
   "cell_type": "code",
   "execution_count": 30,
   "metadata": {
    "slideshow": {
     "slide_type": "subslide"
    }
   },
   "outputs": [],
   "source": [
    "# Calculate lag assets and investment\n",
    "compa.sort_values(['gvkey', 'fyear'], inplace=True)\n",
    "compa['at_lag'] = compa.groupby('gvkey').at.shift(1)\n",
    "compa['inv'] = (compa['at'] - compa['at_lag']) / compa['at_lag']"
   ]
  },
  {
   "cell_type": "markdown",
   "metadata": {
    "slideshow": {
     "slide_type": "subslide"
    }
   },
   "source": [
    "What if compa has missing years?"
   ]
  },
  {
   "cell_type": "code",
   "execution_count": 31,
   "metadata": {
    "slideshow": {
     "slide_type": "fragment"
    }
   },
   "outputs": [],
   "source": [
    "compa['fdiff'] = compa.groupby('gvkey').fyear.diff()"
   ]
  },
  {
   "cell_type": "code",
   "execution_count": 32,
   "metadata": {
    "slideshow": {
     "slide_type": "fragment"
    }
   },
   "outputs": [
    {
     "data": {
      "text/html": [
       "<div>\n",
       "<style scoped>\n",
       "    .dataframe tbody tr th:only-of-type {\n",
       "        vertical-align: middle;\n",
       "    }\n",
       "\n",
       "    .dataframe tbody tr th {\n",
       "        vertical-align: top;\n",
       "    }\n",
       "\n",
       "    .dataframe thead th {\n",
       "        text-align: right;\n",
       "    }\n",
       "</style>\n",
       "<table border=\"1\" class=\"dataframe\">\n",
       "  <thead>\n",
       "    <tr style=\"text-align: right;\">\n",
       "      <th></th>\n",
       "      <th>gvkey</th>\n",
       "      <th>fyear</th>\n",
       "      <th>at</th>\n",
       "      <th>at_lag</th>\n",
       "      <th>inv</th>\n",
       "    </tr>\n",
       "  </thead>\n",
       "  <tbody>\n",
       "    <tr>\n",
       "      <th>20765</th>\n",
       "      <td>002820</td>\n",
       "      <td>2001.0</td>\n",
       "      <td>117.090</td>\n",
       "      <td>NaN</td>\n",
       "      <td>NaN</td>\n",
       "    </tr>\n",
       "    <tr>\n",
       "      <th>26551</th>\n",
       "      <td>003279</td>\n",
       "      <td>2011.0</td>\n",
       "      <td>NaN</td>\n",
       "      <td>1.269</td>\n",
       "      <td>NaN</td>\n",
       "    </tr>\n",
       "    <tr>\n",
       "      <th>28590</th>\n",
       "      <td>003469</td>\n",
       "      <td>2002.0</td>\n",
       "      <td>406.677</td>\n",
       "      <td>NaN</td>\n",
       "      <td>NaN</td>\n",
       "    </tr>\n",
       "    <tr>\n",
       "      <th>32365</th>\n",
       "      <td>003819</td>\n",
       "      <td>2011.0</td>\n",
       "      <td>NaN</td>\n",
       "      <td>2.295</td>\n",
       "      <td>NaN</td>\n",
       "    </tr>\n",
       "    <tr>\n",
       "      <th>35004</th>\n",
       "      <td>004049</td>\n",
       "      <td>2000.0</td>\n",
       "      <td>905.890</td>\n",
       "      <td>NaN</td>\n",
       "      <td>NaN</td>\n",
       "    </tr>\n",
       "    <tr>\n",
       "      <th>38601</th>\n",
       "      <td>004341</td>\n",
       "      <td>2000.0</td>\n",
       "      <td>0.000</td>\n",
       "      <td>NaN</td>\n",
       "      <td>NaN</td>\n",
       "    </tr>\n",
       "    <tr>\n",
       "      <th>39342</th>\n",
       "      <td>004412</td>\n",
       "      <td>2004.0</td>\n",
       "      <td>213.432</td>\n",
       "      <td>218.681</td>\n",
       "      <td>-0.024003</td>\n",
       "    </tr>\n",
       "    <tr>\n",
       "      <th>39345</th>\n",
       "      <td>004412</td>\n",
       "      <td>2008.0</td>\n",
       "      <td>219.640</td>\n",
       "      <td>203.755</td>\n",
       "      <td>0.077961</td>\n",
       "    </tr>\n",
       "    <tr>\n",
       "      <th>42904</th>\n",
       "      <td>004707</td>\n",
       "      <td>1996.0</td>\n",
       "      <td>14.416</td>\n",
       "      <td>NaN</td>\n",
       "      <td>NaN</td>\n",
       "    </tr>\n",
       "    <tr>\n",
       "      <th>48485</th>\n",
       "      <td>005202</td>\n",
       "      <td>1999.0</td>\n",
       "      <td>0.000</td>\n",
       "      <td>0.102</td>\n",
       "      <td>-1.000000</td>\n",
       "    </tr>\n",
       "    <tr>\n",
       "      <th>53711</th>\n",
       "      <td>005681</td>\n",
       "      <td>1995.0</td>\n",
       "      <td>26.851</td>\n",
       "      <td>13885.098</td>\n",
       "      <td>-0.998066</td>\n",
       "    </tr>\n",
       "    <tr>\n",
       "      <th>54943</th>\n",
       "      <td>005792</td>\n",
       "      <td>1998.0</td>\n",
       "      <td>218.462</td>\n",
       "      <td>84.850</td>\n",
       "      <td>1.574685</td>\n",
       "    </tr>\n",
       "    <tr>\n",
       "      <th>55391</th>\n",
       "      <td>005835</td>\n",
       "      <td>1997.0</td>\n",
       "      <td>0.030</td>\n",
       "      <td>3.052</td>\n",
       "      <td>-0.990170</td>\n",
       "    </tr>\n",
       "    <tr>\n",
       "      <th>57244</th>\n",
       "      <td>006000</td>\n",
       "      <td>2010.0</td>\n",
       "      <td>NaN</td>\n",
       "      <td>6.091</td>\n",
       "      <td>NaN</td>\n",
       "    </tr>\n",
       "    <tr>\n",
       "      <th>62628</th>\n",
       "      <td>006423</td>\n",
       "      <td>2011.0</td>\n",
       "      <td>NaN</td>\n",
       "      <td>38.823</td>\n",
       "      <td>NaN</td>\n",
       "    </tr>\n",
       "    <tr>\n",
       "      <th>63074</th>\n",
       "      <td>006464</td>\n",
       "      <td>1998.0</td>\n",
       "      <td>0.027</td>\n",
       "      <td>1.553</td>\n",
       "      <td>-0.982614</td>\n",
       "    </tr>\n",
       "    <tr>\n",
       "      <th>69792</th>\n",
       "      <td>007102</td>\n",
       "      <td>2011.0</td>\n",
       "      <td>NaN</td>\n",
       "      <td>1.687</td>\n",
       "      <td>NaN</td>\n",
       "    </tr>\n",
       "    <tr>\n",
       "      <th>70929</th>\n",
       "      <td>007185</td>\n",
       "      <td>2000.0</td>\n",
       "      <td>139.946</td>\n",
       "      <td>182.059</td>\n",
       "      <td>-0.231315</td>\n",
       "    </tr>\n",
       "    <tr>\n",
       "      <th>78899</th>\n",
       "      <td>007860</td>\n",
       "      <td>1998.0</td>\n",
       "      <td>0.423</td>\n",
       "      <td>NaN</td>\n",
       "      <td>NaN</td>\n",
       "    </tr>\n",
       "    <tr>\n",
       "      <th>82862</th>\n",
       "      <td>008145</td>\n",
       "      <td>2010.0</td>\n",
       "      <td>NaN</td>\n",
       "      <td>89.088</td>\n",
       "      <td>NaN</td>\n",
       "    </tr>\n",
       "    <tr>\n",
       "      <th>88398</th>\n",
       "      <td>008605</td>\n",
       "      <td>2001.0</td>\n",
       "      <td>2745.536</td>\n",
       "      <td>NaN</td>\n",
       "      <td>NaN</td>\n",
       "    </tr>\n",
       "    <tr>\n",
       "      <th>97849</th>\n",
       "      <td>009455</td>\n",
       "      <td>2007.0</td>\n",
       "      <td>17.965</td>\n",
       "      <td>20.144</td>\n",
       "      <td>-0.108171</td>\n",
       "    </tr>\n",
       "    <tr>\n",
       "      <th>98345</th>\n",
       "      <td>009493</td>\n",
       "      <td>2011.0</td>\n",
       "      <td>NaN</td>\n",
       "      <td>0.829</td>\n",
       "      <td>NaN</td>\n",
       "    </tr>\n",
       "    <tr>\n",
       "      <th>113615</th>\n",
       "      <td>010820</td>\n",
       "      <td>2011.0</td>\n",
       "      <td>NaN</td>\n",
       "      <td>1.138</td>\n",
       "      <td>NaN</td>\n",
       "    </tr>\n",
       "    <tr>\n",
       "      <th>117418</th>\n",
       "      <td>011137</td>\n",
       "      <td>2011.0</td>\n",
       "      <td>NaN</td>\n",
       "      <td>75.795</td>\n",
       "      <td>NaN</td>\n",
       "    </tr>\n",
       "    <tr>\n",
       "      <th>119724</th>\n",
       "      <td>011332</td>\n",
       "      <td>1998.0</td>\n",
       "      <td>0.054</td>\n",
       "      <td>2.970</td>\n",
       "      <td>-0.981818</td>\n",
       "    </tr>\n",
       "    <tr>\n",
       "      <th>122931</th>\n",
       "      <td>011611</td>\n",
       "      <td>1997.0</td>\n",
       "      <td>0.007</td>\n",
       "      <td>1.041</td>\n",
       "      <td>-0.993276</td>\n",
       "    </tr>\n",
       "    <tr>\n",
       "      <th>125902</th>\n",
       "      <td>011878</td>\n",
       "      <td>2011.0</td>\n",
       "      <td>NaN</td>\n",
       "      <td>0.875</td>\n",
       "      <td>NaN</td>\n",
       "    </tr>\n",
       "    <tr>\n",
       "      <th>128389</th>\n",
       "      <td>012132</td>\n",
       "      <td>1998.0</td>\n",
       "      <td>0.000</td>\n",
       "      <td>1.311</td>\n",
       "      <td>-1.000000</td>\n",
       "    </tr>\n",
       "    <tr>\n",
       "      <th>128778</th>\n",
       "      <td>012161</td>\n",
       "      <td>2011.0</td>\n",
       "      <td>NaN</td>\n",
       "      <td>77.187</td>\n",
       "      <td>NaN</td>\n",
       "    </tr>\n",
       "    <tr>\n",
       "      <th>129843</th>\n",
       "      <td>012286</td>\n",
       "      <td>1996.0</td>\n",
       "      <td>0.839</td>\n",
       "      <td>1.293</td>\n",
       "      <td>-0.351121</td>\n",
       "    </tr>\n",
       "    <tr>\n",
       "      <th>130782</th>\n",
       "      <td>012324</td>\n",
       "      <td>2010.0</td>\n",
       "      <td>NaN</td>\n",
       "      <td>0.138</td>\n",
       "      <td>NaN</td>\n",
       "    </tr>\n",
       "    <tr>\n",
       "      <th>133929</th>\n",
       "      <td>013212</td>\n",
       "      <td>2011.0</td>\n",
       "      <td>NaN</td>\n",
       "      <td>16.418</td>\n",
       "      <td>NaN</td>\n",
       "    </tr>\n",
       "    <tr>\n",
       "      <th>148164</th>\n",
       "      <td>013712</td>\n",
       "      <td>2009.0</td>\n",
       "      <td>1580.300</td>\n",
       "      <td>NaN</td>\n",
       "      <td>NaN</td>\n",
       "    </tr>\n",
       "    <tr>\n",
       "      <th>148410</th>\n",
       "      <td>013744</td>\n",
       "      <td>1990.0</td>\n",
       "      <td>NaN</td>\n",
       "      <td>1.028</td>\n",
       "      <td>NaN</td>\n",
       "    </tr>\n",
       "    <tr>\n",
       "      <th>150204</th>\n",
       "      <td>013936</td>\n",
       "      <td>1998.0</td>\n",
       "      <td>0.016</td>\n",
       "      <td>NaN</td>\n",
       "      <td>NaN</td>\n",
       "    </tr>\n",
       "    <tr>\n",
       "      <th>146162</th>\n",
       "      <td>013958</td>\n",
       "      <td>2011.0</td>\n",
       "      <td>NaN</td>\n",
       "      <td>11310.898</td>\n",
       "      <td>NaN</td>\n",
       "    </tr>\n",
       "    <tr>\n",
       "      <th>150747</th>\n",
       "      <td>013973</td>\n",
       "      <td>2005.0</td>\n",
       "      <td>121.222</td>\n",
       "      <td>751.055</td>\n",
       "      <td>-0.838598</td>\n",
       "    </tr>\n",
       "    <tr>\n",
       "      <th>151715</th>\n",
       "      <td>014038</td>\n",
       "      <td>2011.0</td>\n",
       "      <td>NaN</td>\n",
       "      <td>24.309</td>\n",
       "      <td>NaN</td>\n",
       "    </tr>\n",
       "    <tr>\n",
       "      <th>153525</th>\n",
       "      <td>014186</td>\n",
       "      <td>2001.0</td>\n",
       "      <td>160.347</td>\n",
       "      <td>NaN</td>\n",
       "      <td>NaN</td>\n",
       "    </tr>\n",
       "    <tr>\n",
       "      <th>157259</th>\n",
       "      <td>014488</td>\n",
       "      <td>2011.0</td>\n",
       "      <td>NaN</td>\n",
       "      <td>3453.626</td>\n",
       "      <td>NaN</td>\n",
       "    </tr>\n",
       "    <tr>\n",
       "      <th>157906</th>\n",
       "      <td>014546</td>\n",
       "      <td>1985.0</td>\n",
       "      <td>55.660</td>\n",
       "      <td>NaN</td>\n",
       "      <td>NaN</td>\n",
       "    </tr>\n",
       "    <tr>\n",
       "      <th>158487</th>\n",
       "      <td>014582</td>\n",
       "      <td>1998.0</td>\n",
       "      <td>0.085</td>\n",
       "      <td>NaN</td>\n",
       "      <td>NaN</td>\n",
       "    </tr>\n",
       "    <tr>\n",
       "      <th>157738</th>\n",
       "      <td>014608</td>\n",
       "      <td>2011.0</td>\n",
       "      <td>NaN</td>\n",
       "      <td>43.322</td>\n",
       "      <td>NaN</td>\n",
       "    </tr>\n",
       "    <tr>\n",
       "      <th>158292</th>\n",
       "      <td>014660</td>\n",
       "      <td>2007.0</td>\n",
       "      <td>NaN</td>\n",
       "      <td>NaN</td>\n",
       "      <td>NaN</td>\n",
       "    </tr>\n",
       "    <tr>\n",
       "      <th>162045</th>\n",
       "      <td>014783</td>\n",
       "      <td>2004.0</td>\n",
       "      <td>NaN</td>\n",
       "      <td>NaN</td>\n",
       "      <td>NaN</td>\n",
       "    </tr>\n",
       "    <tr>\n",
       "      <th>164273</th>\n",
       "      <td>014955</td>\n",
       "      <td>1997.0</td>\n",
       "      <td>0.747</td>\n",
       "      <td>6.741</td>\n",
       "      <td>-0.889186</td>\n",
       "    </tr>\n",
       "    <tr>\n",
       "      <th>163116</th>\n",
       "      <td>014995</td>\n",
       "      <td>2007.0</td>\n",
       "      <td>NaN</td>\n",
       "      <td>NaN</td>\n",
       "      <td>NaN</td>\n",
       "    </tr>\n",
       "    <tr>\n",
       "      <th>170018</th>\n",
       "      <td>015355</td>\n",
       "      <td>2011.0</td>\n",
       "      <td>NaN</td>\n",
       "      <td>88.760</td>\n",
       "      <td>NaN</td>\n",
       "    </tr>\n",
       "    <tr>\n",
       "      <th>173581</th>\n",
       "      <td>016445</td>\n",
       "      <td>2005.0</td>\n",
       "      <td>NaN</td>\n",
       "      <td>NaN</td>\n",
       "      <td>NaN</td>\n",
       "    </tr>\n",
       "    <tr>\n",
       "      <th>...</th>\n",
       "      <td>...</td>\n",
       "      <td>...</td>\n",
       "      <td>...</td>\n",
       "      <td>...</td>\n",
       "      <td>...</td>\n",
       "    </tr>\n",
       "    <tr>\n",
       "      <th>303039</th>\n",
       "      <td>066522</td>\n",
       "      <td>2007.0</td>\n",
       "      <td>NaN</td>\n",
       "      <td>NaN</td>\n",
       "      <td>NaN</td>\n",
       "    </tr>\n",
       "    <tr>\n",
       "      <th>303171</th>\n",
       "      <td>066557</td>\n",
       "      <td>2006.0</td>\n",
       "      <td>1.213</td>\n",
       "      <td>6.575</td>\n",
       "      <td>-0.815513</td>\n",
       "    </tr>\n",
       "    <tr>\n",
       "      <th>304236</th>\n",
       "      <td>066728</td>\n",
       "      <td>1998.0</td>\n",
       "      <td>23.290</td>\n",
       "      <td>NaN</td>\n",
       "      <td>NaN</td>\n",
       "    </tr>\n",
       "    <tr>\n",
       "      <th>307669</th>\n",
       "      <td>106041</td>\n",
       "      <td>2004.0</td>\n",
       "      <td>0.541</td>\n",
       "      <td>3.435</td>\n",
       "      <td>-0.842504</td>\n",
       "    </tr>\n",
       "    <tr>\n",
       "      <th>307681</th>\n",
       "      <td>106133</td>\n",
       "      <td>2006.0</td>\n",
       "      <td>NaN</td>\n",
       "      <td>NaN</td>\n",
       "      <td>NaN</td>\n",
       "    </tr>\n",
       "    <tr>\n",
       "      <th>308568</th>\n",
       "      <td>106466</td>\n",
       "      <td>2007.0</td>\n",
       "      <td>77.694</td>\n",
       "      <td>NaN</td>\n",
       "      <td>NaN</td>\n",
       "    </tr>\n",
       "    <tr>\n",
       "      <th>313390</th>\n",
       "      <td>109921</td>\n",
       "      <td>2006.0</td>\n",
       "      <td>NaN</td>\n",
       "      <td>NaN</td>\n",
       "      <td>NaN</td>\n",
       "    </tr>\n",
       "    <tr>\n",
       "      <th>314268</th>\n",
       "      <td>110804</td>\n",
       "      <td>2005.0</td>\n",
       "      <td>360.385</td>\n",
       "      <td>NaN</td>\n",
       "      <td>NaN</td>\n",
       "    </tr>\n",
       "    <tr>\n",
       "      <th>326047</th>\n",
       "      <td>124039</td>\n",
       "      <td>2012.0</td>\n",
       "      <td>NaN</td>\n",
       "      <td>NaN</td>\n",
       "      <td>NaN</td>\n",
       "    </tr>\n",
       "    <tr>\n",
       "      <th>327461</th>\n",
       "      <td>125276</td>\n",
       "      <td>2018.0</td>\n",
       "      <td>163.116</td>\n",
       "      <td>5.604</td>\n",
       "      <td>28.107066</td>\n",
       "    </tr>\n",
       "    <tr>\n",
       "      <th>329081</th>\n",
       "      <td>126697</td>\n",
       "      <td>2012.0</td>\n",
       "      <td>NaN</td>\n",
       "      <td>NaN</td>\n",
       "      <td>NaN</td>\n",
       "    </tr>\n",
       "    <tr>\n",
       "      <th>330849</th>\n",
       "      <td>129087</td>\n",
       "      <td>2012.0</td>\n",
       "      <td>NaN</td>\n",
       "      <td>NaN</td>\n",
       "      <td>NaN</td>\n",
       "    </tr>\n",
       "    <tr>\n",
       "      <th>330867</th>\n",
       "      <td>129098</td>\n",
       "      <td>2012.0</td>\n",
       "      <td>NaN</td>\n",
       "      <td>NaN</td>\n",
       "      <td>NaN</td>\n",
       "    </tr>\n",
       "    <tr>\n",
       "      <th>332297</th>\n",
       "      <td>132981</td>\n",
       "      <td>2008.0</td>\n",
       "      <td>5.072</td>\n",
       "      <td>NaN</td>\n",
       "      <td>NaN</td>\n",
       "    </tr>\n",
       "    <tr>\n",
       "      <th>332615</th>\n",
       "      <td>133346</td>\n",
       "      <td>2005.0</td>\n",
       "      <td>NaN</td>\n",
       "      <td>NaN</td>\n",
       "      <td>NaN</td>\n",
       "    </tr>\n",
       "    <tr>\n",
       "      <th>333877</th>\n",
       "      <td>135249</td>\n",
       "      <td>2012.0</td>\n",
       "      <td>NaN</td>\n",
       "      <td>NaN</td>\n",
       "      <td>NaN</td>\n",
       "    </tr>\n",
       "    <tr>\n",
       "      <th>334944</th>\n",
       "      <td>137139</td>\n",
       "      <td>2012.0</td>\n",
       "      <td>NaN</td>\n",
       "      <td>NaN</td>\n",
       "      <td>NaN</td>\n",
       "    </tr>\n",
       "    <tr>\n",
       "      <th>334985</th>\n",
       "      <td>137143</td>\n",
       "      <td>2012.0</td>\n",
       "      <td>NaN</td>\n",
       "      <td>NaN</td>\n",
       "      <td>NaN</td>\n",
       "    </tr>\n",
       "    <tr>\n",
       "      <th>336838</th>\n",
       "      <td>138981</td>\n",
       "      <td>1998.0</td>\n",
       "      <td>33.025</td>\n",
       "      <td>NaN</td>\n",
       "      <td>NaN</td>\n",
       "    </tr>\n",
       "    <tr>\n",
       "      <th>337257</th>\n",
       "      <td>140032</td>\n",
       "      <td>2012.0</td>\n",
       "      <td>NaN</td>\n",
       "      <td>NaN</td>\n",
       "      <td>NaN</td>\n",
       "    </tr>\n",
       "    <tr>\n",
       "      <th>340606</th>\n",
       "      <td>142130</td>\n",
       "      <td>2007.0</td>\n",
       "      <td>NaN</td>\n",
       "      <td>NaN</td>\n",
       "      <td>NaN</td>\n",
       "    </tr>\n",
       "    <tr>\n",
       "      <th>340705</th>\n",
       "      <td>142253</td>\n",
       "      <td>2012.0</td>\n",
       "      <td>NaN</td>\n",
       "      <td>NaN</td>\n",
       "      <td>NaN</td>\n",
       "    </tr>\n",
       "    <tr>\n",
       "      <th>339001</th>\n",
       "      <td>143466</td>\n",
       "      <td>2012.0</td>\n",
       "      <td>NaN</td>\n",
       "      <td>NaN</td>\n",
       "      <td>NaN</td>\n",
       "    </tr>\n",
       "    <tr>\n",
       "      <th>342447</th>\n",
       "      <td>143710</td>\n",
       "      <td>2008.0</td>\n",
       "      <td>301.039</td>\n",
       "      <td>366.894</td>\n",
       "      <td>-0.179493</td>\n",
       "    </tr>\n",
       "    <tr>\n",
       "      <th>344405</th>\n",
       "      <td>145411</td>\n",
       "      <td>2006.0</td>\n",
       "      <td>NaN</td>\n",
       "      <td>NaN</td>\n",
       "      <td>NaN</td>\n",
       "    </tr>\n",
       "    <tr>\n",
       "      <th>344417</th>\n",
       "      <td>145412</td>\n",
       "      <td>2006.0</td>\n",
       "      <td>NaN</td>\n",
       "      <td>NaN</td>\n",
       "      <td>NaN</td>\n",
       "    </tr>\n",
       "    <tr>\n",
       "      <th>339182</th>\n",
       "      <td>145415</td>\n",
       "      <td>2006.0</td>\n",
       "      <td>NaN</td>\n",
       "      <td>NaN</td>\n",
       "      <td>NaN</td>\n",
       "    </tr>\n",
       "    <tr>\n",
       "      <th>345748</th>\n",
       "      <td>146616</td>\n",
       "      <td>2002.0</td>\n",
       "      <td>21.795</td>\n",
       "      <td>1.046</td>\n",
       "      <td>19.836520</td>\n",
       "    </tr>\n",
       "    <tr>\n",
       "      <th>350664</th>\n",
       "      <td>151199</td>\n",
       "      <td>2005.0</td>\n",
       "      <td>NaN</td>\n",
       "      <td>NaN</td>\n",
       "      <td>NaN</td>\n",
       "    </tr>\n",
       "    <tr>\n",
       "      <th>353106</th>\n",
       "      <td>154760</td>\n",
       "      <td>2004.0</td>\n",
       "      <td>276.587</td>\n",
       "      <td>243.784</td>\n",
       "      <td>0.134558</td>\n",
       "    </tr>\n",
       "    <tr>\n",
       "      <th>351771</th>\n",
       "      <td>155326</td>\n",
       "      <td>2006.0</td>\n",
       "      <td>NaN</td>\n",
       "      <td>NaN</td>\n",
       "      <td>NaN</td>\n",
       "    </tr>\n",
       "    <tr>\n",
       "      <th>354020</th>\n",
       "      <td>156520</td>\n",
       "      <td>2006.0</td>\n",
       "      <td>NaN</td>\n",
       "      <td>NaN</td>\n",
       "      <td>NaN</td>\n",
       "    </tr>\n",
       "    <tr>\n",
       "      <th>355838</th>\n",
       "      <td>157679</td>\n",
       "      <td>2009.0</td>\n",
       "      <td>NaN</td>\n",
       "      <td>NaN</td>\n",
       "      <td>NaN</td>\n",
       "    </tr>\n",
       "    <tr>\n",
       "      <th>356247</th>\n",
       "      <td>158313</td>\n",
       "      <td>2014.0</td>\n",
       "      <td>357.686</td>\n",
       "      <td>342.851</td>\n",
       "      <td>0.043270</td>\n",
       "    </tr>\n",
       "    <tr>\n",
       "      <th>357134</th>\n",
       "      <td>160295</td>\n",
       "      <td>2004.0</td>\n",
       "      <td>7.969</td>\n",
       "      <td>0.313</td>\n",
       "      <td>24.460064</td>\n",
       "    </tr>\n",
       "    <tr>\n",
       "      <th>357475</th>\n",
       "      <td>160417</td>\n",
       "      <td>2017.0</td>\n",
       "      <td>70.558</td>\n",
       "      <td>93.991</td>\n",
       "      <td>-0.249311</td>\n",
       "    </tr>\n",
       "    <tr>\n",
       "      <th>358138</th>\n",
       "      <td>160681</td>\n",
       "      <td>2008.0</td>\n",
       "      <td>NaN</td>\n",
       "      <td>NaN</td>\n",
       "      <td>NaN</td>\n",
       "    </tr>\n",
       "    <tr>\n",
       "      <th>358464</th>\n",
       "      <td>160788</td>\n",
       "      <td>2011.0</td>\n",
       "      <td>118.869</td>\n",
       "      <td>133.503</td>\n",
       "      <td>-0.109616</td>\n",
       "    </tr>\n",
       "    <tr>\n",
       "      <th>358541</th>\n",
       "      <td>160865</td>\n",
       "      <td>2002.0</td>\n",
       "      <td>63186.000</td>\n",
       "      <td>15843.000</td>\n",
       "      <td>2.988260</td>\n",
       "    </tr>\n",
       "    <tr>\n",
       "      <th>362375</th>\n",
       "      <td>163595</td>\n",
       "      <td>2005.0</td>\n",
       "      <td>48.185</td>\n",
       "      <td>NaN</td>\n",
       "      <td>NaN</td>\n",
       "    </tr>\n",
       "    <tr>\n",
       "      <th>363253</th>\n",
       "      <td>163863</td>\n",
       "      <td>2013.0</td>\n",
       "      <td>NaN</td>\n",
       "      <td>1402.943</td>\n",
       "      <td>NaN</td>\n",
       "    </tr>\n",
       "    <tr>\n",
       "      <th>368443</th>\n",
       "      <td>165878</td>\n",
       "      <td>2006.0</td>\n",
       "      <td>168.231</td>\n",
       "      <td>76.986</td>\n",
       "      <td>1.185215</td>\n",
       "    </tr>\n",
       "    <tr>\n",
       "      <th>367004</th>\n",
       "      <td>175226</td>\n",
       "      <td>2017.0</td>\n",
       "      <td>NaN</td>\n",
       "      <td>NaN</td>\n",
       "      <td>NaN</td>\n",
       "    </tr>\n",
       "    <tr>\n",
       "      <th>382481</th>\n",
       "      <td>178540</td>\n",
       "      <td>2010.0</td>\n",
       "      <td>NaN</td>\n",
       "      <td>1889.900</td>\n",
       "      <td>NaN</td>\n",
       "    </tr>\n",
       "    <tr>\n",
       "      <th>386073</th>\n",
       "      <td>179671</td>\n",
       "      <td>2008.0</td>\n",
       "      <td>NaN</td>\n",
       "      <td>87.780</td>\n",
       "      <td>NaN</td>\n",
       "    </tr>\n",
       "    <tr>\n",
       "      <th>387717</th>\n",
       "      <td>180636</td>\n",
       "      <td>2007.0</td>\n",
       "      <td>105.146</td>\n",
       "      <td>NaN</td>\n",
       "      <td>NaN</td>\n",
       "    </tr>\n",
       "    <tr>\n",
       "      <th>402246</th>\n",
       "      <td>196856</td>\n",
       "      <td>2013.0</td>\n",
       "      <td>NaN</td>\n",
       "      <td>3.891</td>\n",
       "      <td>NaN</td>\n",
       "    </tr>\n",
       "    <tr>\n",
       "      <th>403790</th>\n",
       "      <td>221237</td>\n",
       "      <td>2005.0</td>\n",
       "      <td>613.738</td>\n",
       "      <td>172.843</td>\n",
       "      <td>2.550841</td>\n",
       "    </tr>\n",
       "    <tr>\n",
       "      <th>404410</th>\n",
       "      <td>233149</td>\n",
       "      <td>2007.0</td>\n",
       "      <td>163.373</td>\n",
       "      <td>119.603</td>\n",
       "      <td>0.365961</td>\n",
       "    </tr>\n",
       "    <tr>\n",
       "      <th>405819</th>\n",
       "      <td>265008</td>\n",
       "      <td>2008.0</td>\n",
       "      <td>1405.940</td>\n",
       "      <td>399.094</td>\n",
       "      <td>2.522829</td>\n",
       "    </tr>\n",
       "  </tbody>\n",
       "</table>\n",
       "<p>143 rows × 5 columns</p>\n",
       "</div>"
      ],
      "text/plain": [
       "         gvkey   fyear         at     at_lag        inv\n",
       "20765   002820  2001.0    117.090        NaN        NaN\n",
       "26551   003279  2011.0        NaN      1.269        NaN\n",
       "28590   003469  2002.0    406.677        NaN        NaN\n",
       "32365   003819  2011.0        NaN      2.295        NaN\n",
       "35004   004049  2000.0    905.890        NaN        NaN\n",
       "38601   004341  2000.0      0.000        NaN        NaN\n",
       "39342   004412  2004.0    213.432    218.681  -0.024003\n",
       "39345   004412  2008.0    219.640    203.755   0.077961\n",
       "42904   004707  1996.0     14.416        NaN        NaN\n",
       "48485   005202  1999.0      0.000      0.102  -1.000000\n",
       "53711   005681  1995.0     26.851  13885.098  -0.998066\n",
       "54943   005792  1998.0    218.462     84.850   1.574685\n",
       "55391   005835  1997.0      0.030      3.052  -0.990170\n",
       "57244   006000  2010.0        NaN      6.091        NaN\n",
       "62628   006423  2011.0        NaN     38.823        NaN\n",
       "63074   006464  1998.0      0.027      1.553  -0.982614\n",
       "69792   007102  2011.0        NaN      1.687        NaN\n",
       "70929   007185  2000.0    139.946    182.059  -0.231315\n",
       "78899   007860  1998.0      0.423        NaN        NaN\n",
       "82862   008145  2010.0        NaN     89.088        NaN\n",
       "88398   008605  2001.0   2745.536        NaN        NaN\n",
       "97849   009455  2007.0     17.965     20.144  -0.108171\n",
       "98345   009493  2011.0        NaN      0.829        NaN\n",
       "113615  010820  2011.0        NaN      1.138        NaN\n",
       "117418  011137  2011.0        NaN     75.795        NaN\n",
       "119724  011332  1998.0      0.054      2.970  -0.981818\n",
       "122931  011611  1997.0      0.007      1.041  -0.993276\n",
       "125902  011878  2011.0        NaN      0.875        NaN\n",
       "128389  012132  1998.0      0.000      1.311  -1.000000\n",
       "128778  012161  2011.0        NaN     77.187        NaN\n",
       "129843  012286  1996.0      0.839      1.293  -0.351121\n",
       "130782  012324  2010.0        NaN      0.138        NaN\n",
       "133929  013212  2011.0        NaN     16.418        NaN\n",
       "148164  013712  2009.0   1580.300        NaN        NaN\n",
       "148410  013744  1990.0        NaN      1.028        NaN\n",
       "150204  013936  1998.0      0.016        NaN        NaN\n",
       "146162  013958  2011.0        NaN  11310.898        NaN\n",
       "150747  013973  2005.0    121.222    751.055  -0.838598\n",
       "151715  014038  2011.0        NaN     24.309        NaN\n",
       "153525  014186  2001.0    160.347        NaN        NaN\n",
       "157259  014488  2011.0        NaN   3453.626        NaN\n",
       "157906  014546  1985.0     55.660        NaN        NaN\n",
       "158487  014582  1998.0      0.085        NaN        NaN\n",
       "157738  014608  2011.0        NaN     43.322        NaN\n",
       "158292  014660  2007.0        NaN        NaN        NaN\n",
       "162045  014783  2004.0        NaN        NaN        NaN\n",
       "164273  014955  1997.0      0.747      6.741  -0.889186\n",
       "163116  014995  2007.0        NaN        NaN        NaN\n",
       "170018  015355  2011.0        NaN     88.760        NaN\n",
       "173581  016445  2005.0        NaN        NaN        NaN\n",
       "...        ...     ...        ...        ...        ...\n",
       "303039  066522  2007.0        NaN        NaN        NaN\n",
       "303171  066557  2006.0      1.213      6.575  -0.815513\n",
       "304236  066728  1998.0     23.290        NaN        NaN\n",
       "307669  106041  2004.0      0.541      3.435  -0.842504\n",
       "307681  106133  2006.0        NaN        NaN        NaN\n",
       "308568  106466  2007.0     77.694        NaN        NaN\n",
       "313390  109921  2006.0        NaN        NaN        NaN\n",
       "314268  110804  2005.0    360.385        NaN        NaN\n",
       "326047  124039  2012.0        NaN        NaN        NaN\n",
       "327461  125276  2018.0    163.116      5.604  28.107066\n",
       "329081  126697  2012.0        NaN        NaN        NaN\n",
       "330849  129087  2012.0        NaN        NaN        NaN\n",
       "330867  129098  2012.0        NaN        NaN        NaN\n",
       "332297  132981  2008.0      5.072        NaN        NaN\n",
       "332615  133346  2005.0        NaN        NaN        NaN\n",
       "333877  135249  2012.0        NaN        NaN        NaN\n",
       "334944  137139  2012.0        NaN        NaN        NaN\n",
       "334985  137143  2012.0        NaN        NaN        NaN\n",
       "336838  138981  1998.0     33.025        NaN        NaN\n",
       "337257  140032  2012.0        NaN        NaN        NaN\n",
       "340606  142130  2007.0        NaN        NaN        NaN\n",
       "340705  142253  2012.0        NaN        NaN        NaN\n",
       "339001  143466  2012.0        NaN        NaN        NaN\n",
       "342447  143710  2008.0    301.039    366.894  -0.179493\n",
       "344405  145411  2006.0        NaN        NaN        NaN\n",
       "344417  145412  2006.0        NaN        NaN        NaN\n",
       "339182  145415  2006.0        NaN        NaN        NaN\n",
       "345748  146616  2002.0     21.795      1.046  19.836520\n",
       "350664  151199  2005.0        NaN        NaN        NaN\n",
       "353106  154760  2004.0    276.587    243.784   0.134558\n",
       "351771  155326  2006.0        NaN        NaN        NaN\n",
       "354020  156520  2006.0        NaN        NaN        NaN\n",
       "355838  157679  2009.0        NaN        NaN        NaN\n",
       "356247  158313  2014.0    357.686    342.851   0.043270\n",
       "357134  160295  2004.0      7.969      0.313  24.460064\n",
       "357475  160417  2017.0     70.558     93.991  -0.249311\n",
       "358138  160681  2008.0        NaN        NaN        NaN\n",
       "358464  160788  2011.0    118.869    133.503  -0.109616\n",
       "358541  160865  2002.0  63186.000  15843.000   2.988260\n",
       "362375  163595  2005.0     48.185        NaN        NaN\n",
       "363253  163863  2013.0        NaN   1402.943        NaN\n",
       "368443  165878  2006.0    168.231     76.986   1.185215\n",
       "367004  175226  2017.0        NaN        NaN        NaN\n",
       "382481  178540  2010.0        NaN   1889.900        NaN\n",
       "386073  179671  2008.0        NaN     87.780        NaN\n",
       "387717  180636  2007.0    105.146        NaN        NaN\n",
       "402246  196856  2013.0        NaN      3.891        NaN\n",
       "403790  221237  2005.0    613.738    172.843   2.550841\n",
       "404410  233149  2007.0    163.373    119.603   0.365961\n",
       "405819  265008  2008.0   1405.940    399.094   2.522829\n",
       "\n",
       "[143 rows x 5 columns]"
      ]
     },
     "execution_count": 32,
     "metadata": {},
     "output_type": "execute_result"
    }
   ],
   "source": [
    "compa[(compa.fdiff>1)][['gvkey','fyear','at','at_lag', 'inv']]"
   ]
  },
  {
   "cell_type": "code",
   "execution_count": 33,
   "metadata": {
    "scrolled": true,
    "slideshow": {
     "slide_type": "subslide"
    }
   },
   "outputs": [
    {
     "data": {
      "text/html": [
       "<div>\n",
       "<style scoped>\n",
       "    .dataframe tbody tr th:only-of-type {\n",
       "        vertical-align: middle;\n",
       "    }\n",
       "\n",
       "    .dataframe tbody tr th {\n",
       "        vertical-align: top;\n",
       "    }\n",
       "\n",
       "    .dataframe thead th {\n",
       "        text-align: right;\n",
       "    }\n",
       "</style>\n",
       "<table border=\"1\" class=\"dataframe\">\n",
       "  <thead>\n",
       "    <tr style=\"text-align: right;\">\n",
       "      <th></th>\n",
       "      <th>gvkey</th>\n",
       "      <th>fyear</th>\n",
       "      <th>at</th>\n",
       "      <th>at_lag</th>\n",
       "      <th>inv</th>\n",
       "      <th>fdiff</th>\n",
       "    </tr>\n",
       "  </thead>\n",
       "  <tbody>\n",
       "    <tr>\n",
       "      <th>53657</th>\n",
       "      <td>005681</td>\n",
       "      <td>1983.0</td>\n",
       "      <td>6803.074</td>\n",
       "      <td>NaN</td>\n",
       "      <td>NaN</td>\n",
       "      <td>NaN</td>\n",
       "    </tr>\n",
       "    <tr>\n",
       "      <th>53674</th>\n",
       "      <td>005681</td>\n",
       "      <td>1984.0</td>\n",
       "      <td>8885.500</td>\n",
       "      <td>6803.074</td>\n",
       "      <td>0.306101</td>\n",
       "      <td>1.0</td>\n",
       "    </tr>\n",
       "    <tr>\n",
       "      <th>53681</th>\n",
       "      <td>005681</td>\n",
       "      <td>1985.0</td>\n",
       "      <td>10018.598</td>\n",
       "      <td>8885.500</td>\n",
       "      <td>0.127522</td>\n",
       "      <td>1.0</td>\n",
       "    </tr>\n",
       "    <tr>\n",
       "      <th>53691</th>\n",
       "      <td>005681</td>\n",
       "      <td>1986.0</td>\n",
       "      <td>12074.598</td>\n",
       "      <td>10018.598</td>\n",
       "      <td>0.205218</td>\n",
       "      <td>1.0</td>\n",
       "    </tr>\n",
       "    <tr>\n",
       "      <th>53694</th>\n",
       "      <td>005681</td>\n",
       "      <td>1987.0</td>\n",
       "      <td>14109.098</td>\n",
       "      <td>12074.598</td>\n",
       "      <td>0.168494</td>\n",
       "      <td>1.0</td>\n",
       "    </tr>\n",
       "    <tr>\n",
       "      <th>53697</th>\n",
       "      <td>005681</td>\n",
       "      <td>1988.0</td>\n",
       "      <td>17008.699</td>\n",
       "      <td>14109.098</td>\n",
       "      <td>0.205513</td>\n",
       "      <td>1.0</td>\n",
       "    </tr>\n",
       "    <tr>\n",
       "      <th>52452</th>\n",
       "      <td>005681</td>\n",
       "      <td>1989.0</td>\n",
       "      <td>17766.699</td>\n",
       "      <td>17008.699</td>\n",
       "      <td>0.044565</td>\n",
       "      <td>1.0</td>\n",
       "    </tr>\n",
       "    <tr>\n",
       "      <th>53026</th>\n",
       "      <td>005681</td>\n",
       "      <td>1990.0</td>\n",
       "      <td>18259.500</td>\n",
       "      <td>17766.699</td>\n",
       "      <td>0.027737</td>\n",
       "      <td>1.0</td>\n",
       "    </tr>\n",
       "    <tr>\n",
       "      <th>53549</th>\n",
       "      <td>005681</td>\n",
       "      <td>1991.0</td>\n",
       "      <td>13885.098</td>\n",
       "      <td>18259.500</td>\n",
       "      <td>-0.239569</td>\n",
       "      <td>1.0</td>\n",
       "    </tr>\n",
       "    <tr>\n",
       "      <th>53711</th>\n",
       "      <td>005681</td>\n",
       "      <td>1995.0</td>\n",
       "      <td>26.851</td>\n",
       "      <td>13885.098</td>\n",
       "      <td>-0.998066</td>\n",
       "      <td>4.0</td>\n",
       "    </tr>\n",
       "    <tr>\n",
       "      <th>53712</th>\n",
       "      <td>005681</td>\n",
       "      <td>1996.0</td>\n",
       "      <td>17.091</td>\n",
       "      <td>26.851</td>\n",
       "      <td>-0.363487</td>\n",
       "      <td>1.0</td>\n",
       "    </tr>\n",
       "    <tr>\n",
       "      <th>53713</th>\n",
       "      <td>005681</td>\n",
       "      <td>1997.0</td>\n",
       "      <td>15.457</td>\n",
       "      <td>17.091</td>\n",
       "      <td>-0.095606</td>\n",
       "      <td>1.0</td>\n",
       "    </tr>\n",
       "    <tr>\n",
       "      <th>53715</th>\n",
       "      <td>005681</td>\n",
       "      <td>1998.0</td>\n",
       "      <td>19.043</td>\n",
       "      <td>15.457</td>\n",
       "      <td>0.231998</td>\n",
       "      <td>1.0</td>\n",
       "    </tr>\n",
       "    <tr>\n",
       "      <th>53716</th>\n",
       "      <td>005681</td>\n",
       "      <td>1999.0</td>\n",
       "      <td>27.528</td>\n",
       "      <td>19.043</td>\n",
       "      <td>0.445571</td>\n",
       "      <td>1.0</td>\n",
       "    </tr>\n",
       "    <tr>\n",
       "      <th>53717</th>\n",
       "      <td>005681</td>\n",
       "      <td>2000.0</td>\n",
       "      <td>24.818</td>\n",
       "      <td>27.528</td>\n",
       "      <td>-0.098445</td>\n",
       "      <td>1.0</td>\n",
       "    </tr>\n",
       "    <tr>\n",
       "      <th>53718</th>\n",
       "      <td>005681</td>\n",
       "      <td>2001.0</td>\n",
       "      <td>25.804</td>\n",
       "      <td>24.818</td>\n",
       "      <td>0.039729</td>\n",
       "      <td>1.0</td>\n",
       "    </tr>\n",
       "    <tr>\n",
       "      <th>53719</th>\n",
       "      <td>005681</td>\n",
       "      <td>2002.0</td>\n",
       "      <td>117.043</td>\n",
       "      <td>25.804</td>\n",
       "      <td>3.535847</td>\n",
       "      <td>1.0</td>\n",
       "    </tr>\n",
       "    <tr>\n",
       "      <th>53720</th>\n",
       "      <td>005681</td>\n",
       "      <td>2003.0</td>\n",
       "      <td>217.010</td>\n",
       "      <td>117.043</td>\n",
       "      <td>0.854105</td>\n",
       "      <td>1.0</td>\n",
       "    </tr>\n",
       "    <tr>\n",
       "      <th>53721</th>\n",
       "      <td>005681</td>\n",
       "      <td>2004.0</td>\n",
       "      <td>211.487</td>\n",
       "      <td>217.010</td>\n",
       "      <td>-0.025450</td>\n",
       "      <td>1.0</td>\n",
       "    </tr>\n",
       "    <tr>\n",
       "      <th>53722</th>\n",
       "      <td>005681</td>\n",
       "      <td>2005.0</td>\n",
       "      <td>294.261</td>\n",
       "      <td>211.487</td>\n",
       "      <td>0.391390</td>\n",
       "      <td>1.0</td>\n",
       "    </tr>\n",
       "    <tr>\n",
       "      <th>53723</th>\n",
       "      <td>005681</td>\n",
       "      <td>2006.0</td>\n",
       "      <td>237.299</td>\n",
       "      <td>294.261</td>\n",
       "      <td>-0.193576</td>\n",
       "      <td>1.0</td>\n",
       "    </tr>\n",
       "    <tr>\n",
       "      <th>53724</th>\n",
       "      <td>005681</td>\n",
       "      <td>2007.0</td>\n",
       "      <td>219.255</td>\n",
       "      <td>237.299</td>\n",
       "      <td>-0.076039</td>\n",
       "      <td>1.0</td>\n",
       "    </tr>\n",
       "    <tr>\n",
       "      <th>53725</th>\n",
       "      <td>005681</td>\n",
       "      <td>2008.0</td>\n",
       "      <td>190.397</td>\n",
       "      <td>219.255</td>\n",
       "      <td>-0.131618</td>\n",
       "      <td>1.0</td>\n",
       "    </tr>\n",
       "    <tr>\n",
       "      <th>53726</th>\n",
       "      <td>005681</td>\n",
       "      <td>2009.0</td>\n",
       "      <td>185.704</td>\n",
       "      <td>190.397</td>\n",
       "      <td>-0.024648</td>\n",
       "      <td>1.0</td>\n",
       "    </tr>\n",
       "    <tr>\n",
       "      <th>53727</th>\n",
       "      <td>005681</td>\n",
       "      <td>2010.0</td>\n",
       "      <td>184.510</td>\n",
       "      <td>185.704</td>\n",
       "      <td>-0.006430</td>\n",
       "      <td>1.0</td>\n",
       "    </tr>\n",
       "    <tr>\n",
       "      <th>53728</th>\n",
       "      <td>005681</td>\n",
       "      <td>2011.0</td>\n",
       "      <td>188.753</td>\n",
       "      <td>184.510</td>\n",
       "      <td>0.022996</td>\n",
       "      <td>1.0</td>\n",
       "    </tr>\n",
       "    <tr>\n",
       "      <th>53729</th>\n",
       "      <td>005681</td>\n",
       "      <td>2012.0</td>\n",
       "      <td>189.409</td>\n",
       "      <td>188.753</td>\n",
       "      <td>0.003475</td>\n",
       "      <td>1.0</td>\n",
       "    </tr>\n",
       "    <tr>\n",
       "      <th>53730</th>\n",
       "      <td>005681</td>\n",
       "      <td>2013.0</td>\n",
       "      <td>204.402</td>\n",
       "      <td>189.409</td>\n",
       "      <td>0.079157</td>\n",
       "      <td>1.0</td>\n",
       "    </tr>\n",
       "    <tr>\n",
       "      <th>53731</th>\n",
       "      <td>005681</td>\n",
       "      <td>2014.0</td>\n",
       "      <td>433.189</td>\n",
       "      <td>204.402</td>\n",
       "      <td>1.119299</td>\n",
       "      <td>1.0</td>\n",
       "    </tr>\n",
       "    <tr>\n",
       "      <th>53732</th>\n",
       "      <td>005681</td>\n",
       "      <td>2015.0</td>\n",
       "      <td>555.311</td>\n",
       "      <td>433.189</td>\n",
       "      <td>0.281914</td>\n",
       "      <td>1.0</td>\n",
       "    </tr>\n",
       "    <tr>\n",
       "      <th>53733</th>\n",
       "      <td>005681</td>\n",
       "      <td>2016.0</td>\n",
       "      <td>582.332</td>\n",
       "      <td>555.311</td>\n",
       "      <td>0.048659</td>\n",
       "      <td>1.0</td>\n",
       "    </tr>\n",
       "    <tr>\n",
       "      <th>53734</th>\n",
       "      <td>005681</td>\n",
       "      <td>2017.0</td>\n",
       "      <td>607.947</td>\n",
       "      <td>582.332</td>\n",
       "      <td>0.043987</td>\n",
       "      <td>1.0</td>\n",
       "    </tr>\n",
       "  </tbody>\n",
       "</table>\n",
       "</div>"
      ],
      "text/plain": [
       "        gvkey   fyear         at     at_lag       inv  fdiff\n",
       "53657  005681  1983.0   6803.074        NaN       NaN    NaN\n",
       "53674  005681  1984.0   8885.500   6803.074  0.306101    1.0\n",
       "53681  005681  1985.0  10018.598   8885.500  0.127522    1.0\n",
       "53691  005681  1986.0  12074.598  10018.598  0.205218    1.0\n",
       "53694  005681  1987.0  14109.098  12074.598  0.168494    1.0\n",
       "53697  005681  1988.0  17008.699  14109.098  0.205513    1.0\n",
       "52452  005681  1989.0  17766.699  17008.699  0.044565    1.0\n",
       "53026  005681  1990.0  18259.500  17766.699  0.027737    1.0\n",
       "53549  005681  1991.0  13885.098  18259.500 -0.239569    1.0\n",
       "53711  005681  1995.0     26.851  13885.098 -0.998066    4.0\n",
       "53712  005681  1996.0     17.091     26.851 -0.363487    1.0\n",
       "53713  005681  1997.0     15.457     17.091 -0.095606    1.0\n",
       "53715  005681  1998.0     19.043     15.457  0.231998    1.0\n",
       "53716  005681  1999.0     27.528     19.043  0.445571    1.0\n",
       "53717  005681  2000.0     24.818     27.528 -0.098445    1.0\n",
       "53718  005681  2001.0     25.804     24.818  0.039729    1.0\n",
       "53719  005681  2002.0    117.043     25.804  3.535847    1.0\n",
       "53720  005681  2003.0    217.010    117.043  0.854105    1.0\n",
       "53721  005681  2004.0    211.487    217.010 -0.025450    1.0\n",
       "53722  005681  2005.0    294.261    211.487  0.391390    1.0\n",
       "53723  005681  2006.0    237.299    294.261 -0.193576    1.0\n",
       "53724  005681  2007.0    219.255    237.299 -0.076039    1.0\n",
       "53725  005681  2008.0    190.397    219.255 -0.131618    1.0\n",
       "53726  005681  2009.0    185.704    190.397 -0.024648    1.0\n",
       "53727  005681  2010.0    184.510    185.704 -0.006430    1.0\n",
       "53728  005681  2011.0    188.753    184.510  0.022996    1.0\n",
       "53729  005681  2012.0    189.409    188.753  0.003475    1.0\n",
       "53730  005681  2013.0    204.402    189.409  0.079157    1.0\n",
       "53731  005681  2014.0    433.189    204.402  1.119299    1.0\n",
       "53732  005681  2015.0    555.311    433.189  0.281914    1.0\n",
       "53733  005681  2016.0    582.332    555.311  0.048659    1.0\n",
       "53734  005681  2017.0    607.947    582.332  0.043987    1.0"
      ]
     },
     "execution_count": 33,
     "metadata": {},
     "output_type": "execute_result"
    }
   ],
   "source": [
    "# Check one case of skipping years\n",
    "compa.loc[compa.gvkey=='005681',['gvkey','fyear','at','at_lag','inv','fdiff']]"
   ]
  },
  {
   "cell_type": "code",
   "execution_count": 34,
   "metadata": {
    "slideshow": {
     "slide_type": "subslide"
    }
   },
   "outputs": [],
   "source": [
    "# Input missings\n",
    "filter_inv = (compa['at']<=0)|(compa['at_lag']<=0)|(compa.fdiff>1)\n",
    "compa.loc[filter_inv,['inv']] = np.nan\n",
    "del(filter_inv)"
   ]
  },
  {
   "cell_type": "code",
   "execution_count": 35,
   "metadata": {
    "scrolled": true,
    "slideshow": {
     "slide_type": "subslide"
    }
   },
   "outputs": [
    {
     "data": {
      "text/html": [
       "<div>\n",
       "<style scoped>\n",
       "    .dataframe tbody tr th:only-of-type {\n",
       "        vertical-align: middle;\n",
       "    }\n",
       "\n",
       "    .dataframe tbody tr th {\n",
       "        vertical-align: top;\n",
       "    }\n",
       "\n",
       "    .dataframe thead th {\n",
       "        text-align: right;\n",
       "    }\n",
       "</style>\n",
       "<table border=\"1\" class=\"dataframe\">\n",
       "  <thead>\n",
       "    <tr style=\"text-align: right;\">\n",
       "      <th></th>\n",
       "      <th>gvkey</th>\n",
       "      <th>fyear</th>\n",
       "      <th>at</th>\n",
       "      <th>at_lag</th>\n",
       "      <th>inv</th>\n",
       "    </tr>\n",
       "  </thead>\n",
       "  <tbody>\n",
       "    <tr>\n",
       "      <th>53657</th>\n",
       "      <td>005681</td>\n",
       "      <td>1983.0</td>\n",
       "      <td>6803.074</td>\n",
       "      <td>NaN</td>\n",
       "      <td>NaN</td>\n",
       "    </tr>\n",
       "    <tr>\n",
       "      <th>53674</th>\n",
       "      <td>005681</td>\n",
       "      <td>1984.0</td>\n",
       "      <td>8885.500</td>\n",
       "      <td>6803.074</td>\n",
       "      <td>0.306101</td>\n",
       "    </tr>\n",
       "    <tr>\n",
       "      <th>53681</th>\n",
       "      <td>005681</td>\n",
       "      <td>1985.0</td>\n",
       "      <td>10018.598</td>\n",
       "      <td>8885.500</td>\n",
       "      <td>0.127522</td>\n",
       "    </tr>\n",
       "    <tr>\n",
       "      <th>53691</th>\n",
       "      <td>005681</td>\n",
       "      <td>1986.0</td>\n",
       "      <td>12074.598</td>\n",
       "      <td>10018.598</td>\n",
       "      <td>0.205218</td>\n",
       "    </tr>\n",
       "    <tr>\n",
       "      <th>53694</th>\n",
       "      <td>005681</td>\n",
       "      <td>1987.0</td>\n",
       "      <td>14109.098</td>\n",
       "      <td>12074.598</td>\n",
       "      <td>0.168494</td>\n",
       "    </tr>\n",
       "    <tr>\n",
       "      <th>53697</th>\n",
       "      <td>005681</td>\n",
       "      <td>1988.0</td>\n",
       "      <td>17008.699</td>\n",
       "      <td>14109.098</td>\n",
       "      <td>0.205513</td>\n",
       "    </tr>\n",
       "    <tr>\n",
       "      <th>52452</th>\n",
       "      <td>005681</td>\n",
       "      <td>1989.0</td>\n",
       "      <td>17766.699</td>\n",
       "      <td>17008.699</td>\n",
       "      <td>0.044565</td>\n",
       "    </tr>\n",
       "    <tr>\n",
       "      <th>53026</th>\n",
       "      <td>005681</td>\n",
       "      <td>1990.0</td>\n",
       "      <td>18259.500</td>\n",
       "      <td>17766.699</td>\n",
       "      <td>0.027737</td>\n",
       "    </tr>\n",
       "    <tr>\n",
       "      <th>53549</th>\n",
       "      <td>005681</td>\n",
       "      <td>1991.0</td>\n",
       "      <td>13885.098</td>\n",
       "      <td>18259.500</td>\n",
       "      <td>-0.239569</td>\n",
       "    </tr>\n",
       "    <tr>\n",
       "      <th>53711</th>\n",
       "      <td>005681</td>\n",
       "      <td>1995.0</td>\n",
       "      <td>26.851</td>\n",
       "      <td>13885.098</td>\n",
       "      <td>NaN</td>\n",
       "    </tr>\n",
       "    <tr>\n",
       "      <th>53712</th>\n",
       "      <td>005681</td>\n",
       "      <td>1996.0</td>\n",
       "      <td>17.091</td>\n",
       "      <td>26.851</td>\n",
       "      <td>-0.363487</td>\n",
       "    </tr>\n",
       "    <tr>\n",
       "      <th>53713</th>\n",
       "      <td>005681</td>\n",
       "      <td>1997.0</td>\n",
       "      <td>15.457</td>\n",
       "      <td>17.091</td>\n",
       "      <td>-0.095606</td>\n",
       "    </tr>\n",
       "    <tr>\n",
       "      <th>53715</th>\n",
       "      <td>005681</td>\n",
       "      <td>1998.0</td>\n",
       "      <td>19.043</td>\n",
       "      <td>15.457</td>\n",
       "      <td>0.231998</td>\n",
       "    </tr>\n",
       "    <tr>\n",
       "      <th>53716</th>\n",
       "      <td>005681</td>\n",
       "      <td>1999.0</td>\n",
       "      <td>27.528</td>\n",
       "      <td>19.043</td>\n",
       "      <td>0.445571</td>\n",
       "    </tr>\n",
       "    <tr>\n",
       "      <th>53717</th>\n",
       "      <td>005681</td>\n",
       "      <td>2000.0</td>\n",
       "      <td>24.818</td>\n",
       "      <td>27.528</td>\n",
       "      <td>-0.098445</td>\n",
       "    </tr>\n",
       "    <tr>\n",
       "      <th>53718</th>\n",
       "      <td>005681</td>\n",
       "      <td>2001.0</td>\n",
       "      <td>25.804</td>\n",
       "      <td>24.818</td>\n",
       "      <td>0.039729</td>\n",
       "    </tr>\n",
       "    <tr>\n",
       "      <th>53719</th>\n",
       "      <td>005681</td>\n",
       "      <td>2002.0</td>\n",
       "      <td>117.043</td>\n",
       "      <td>25.804</td>\n",
       "      <td>3.535847</td>\n",
       "    </tr>\n",
       "    <tr>\n",
       "      <th>53720</th>\n",
       "      <td>005681</td>\n",
       "      <td>2003.0</td>\n",
       "      <td>217.010</td>\n",
       "      <td>117.043</td>\n",
       "      <td>0.854105</td>\n",
       "    </tr>\n",
       "    <tr>\n",
       "      <th>53721</th>\n",
       "      <td>005681</td>\n",
       "      <td>2004.0</td>\n",
       "      <td>211.487</td>\n",
       "      <td>217.010</td>\n",
       "      <td>-0.025450</td>\n",
       "    </tr>\n",
       "    <tr>\n",
       "      <th>53722</th>\n",
       "      <td>005681</td>\n",
       "      <td>2005.0</td>\n",
       "      <td>294.261</td>\n",
       "      <td>211.487</td>\n",
       "      <td>0.391390</td>\n",
       "    </tr>\n",
       "    <tr>\n",
       "      <th>53723</th>\n",
       "      <td>005681</td>\n",
       "      <td>2006.0</td>\n",
       "      <td>237.299</td>\n",
       "      <td>294.261</td>\n",
       "      <td>-0.193576</td>\n",
       "    </tr>\n",
       "    <tr>\n",
       "      <th>53724</th>\n",
       "      <td>005681</td>\n",
       "      <td>2007.0</td>\n",
       "      <td>219.255</td>\n",
       "      <td>237.299</td>\n",
       "      <td>-0.076039</td>\n",
       "    </tr>\n",
       "    <tr>\n",
       "      <th>53725</th>\n",
       "      <td>005681</td>\n",
       "      <td>2008.0</td>\n",
       "      <td>190.397</td>\n",
       "      <td>219.255</td>\n",
       "      <td>-0.131618</td>\n",
       "    </tr>\n",
       "    <tr>\n",
       "      <th>53726</th>\n",
       "      <td>005681</td>\n",
       "      <td>2009.0</td>\n",
       "      <td>185.704</td>\n",
       "      <td>190.397</td>\n",
       "      <td>-0.024648</td>\n",
       "    </tr>\n",
       "    <tr>\n",
       "      <th>53727</th>\n",
       "      <td>005681</td>\n",
       "      <td>2010.0</td>\n",
       "      <td>184.510</td>\n",
       "      <td>185.704</td>\n",
       "      <td>-0.006430</td>\n",
       "    </tr>\n",
       "    <tr>\n",
       "      <th>53728</th>\n",
       "      <td>005681</td>\n",
       "      <td>2011.0</td>\n",
       "      <td>188.753</td>\n",
       "      <td>184.510</td>\n",
       "      <td>0.022996</td>\n",
       "    </tr>\n",
       "    <tr>\n",
       "      <th>53729</th>\n",
       "      <td>005681</td>\n",
       "      <td>2012.0</td>\n",
       "      <td>189.409</td>\n",
       "      <td>188.753</td>\n",
       "      <td>0.003475</td>\n",
       "    </tr>\n",
       "    <tr>\n",
       "      <th>53730</th>\n",
       "      <td>005681</td>\n",
       "      <td>2013.0</td>\n",
       "      <td>204.402</td>\n",
       "      <td>189.409</td>\n",
       "      <td>0.079157</td>\n",
       "    </tr>\n",
       "    <tr>\n",
       "      <th>53731</th>\n",
       "      <td>005681</td>\n",
       "      <td>2014.0</td>\n",
       "      <td>433.189</td>\n",
       "      <td>204.402</td>\n",
       "      <td>1.119299</td>\n",
       "    </tr>\n",
       "    <tr>\n",
       "      <th>53732</th>\n",
       "      <td>005681</td>\n",
       "      <td>2015.0</td>\n",
       "      <td>555.311</td>\n",
       "      <td>433.189</td>\n",
       "      <td>0.281914</td>\n",
       "    </tr>\n",
       "    <tr>\n",
       "      <th>53733</th>\n",
       "      <td>005681</td>\n",
       "      <td>2016.0</td>\n",
       "      <td>582.332</td>\n",
       "      <td>555.311</td>\n",
       "      <td>0.048659</td>\n",
       "    </tr>\n",
       "    <tr>\n",
       "      <th>53734</th>\n",
       "      <td>005681</td>\n",
       "      <td>2017.0</td>\n",
       "      <td>607.947</td>\n",
       "      <td>582.332</td>\n",
       "      <td>0.043987</td>\n",
       "    </tr>\n",
       "  </tbody>\n",
       "</table>\n",
       "</div>"
      ],
      "text/plain": [
       "        gvkey   fyear         at     at_lag       inv\n",
       "53657  005681  1983.0   6803.074        NaN       NaN\n",
       "53674  005681  1984.0   8885.500   6803.074  0.306101\n",
       "53681  005681  1985.0  10018.598   8885.500  0.127522\n",
       "53691  005681  1986.0  12074.598  10018.598  0.205218\n",
       "53694  005681  1987.0  14109.098  12074.598  0.168494\n",
       "53697  005681  1988.0  17008.699  14109.098  0.205513\n",
       "52452  005681  1989.0  17766.699  17008.699  0.044565\n",
       "53026  005681  1990.0  18259.500  17766.699  0.027737\n",
       "53549  005681  1991.0  13885.098  18259.500 -0.239569\n",
       "53711  005681  1995.0     26.851  13885.098       NaN\n",
       "53712  005681  1996.0     17.091     26.851 -0.363487\n",
       "53713  005681  1997.0     15.457     17.091 -0.095606\n",
       "53715  005681  1998.0     19.043     15.457  0.231998\n",
       "53716  005681  1999.0     27.528     19.043  0.445571\n",
       "53717  005681  2000.0     24.818     27.528 -0.098445\n",
       "53718  005681  2001.0     25.804     24.818  0.039729\n",
       "53719  005681  2002.0    117.043     25.804  3.535847\n",
       "53720  005681  2003.0    217.010    117.043  0.854105\n",
       "53721  005681  2004.0    211.487    217.010 -0.025450\n",
       "53722  005681  2005.0    294.261    211.487  0.391390\n",
       "53723  005681  2006.0    237.299    294.261 -0.193576\n",
       "53724  005681  2007.0    219.255    237.299 -0.076039\n",
       "53725  005681  2008.0    190.397    219.255 -0.131618\n",
       "53726  005681  2009.0    185.704    190.397 -0.024648\n",
       "53727  005681  2010.0    184.510    185.704 -0.006430\n",
       "53728  005681  2011.0    188.753    184.510  0.022996\n",
       "53729  005681  2012.0    189.409    188.753  0.003475\n",
       "53730  005681  2013.0    204.402    189.409  0.079157\n",
       "53731  005681  2014.0    433.189    204.402  1.119299\n",
       "53732  005681  2015.0    555.311    433.189  0.281914\n",
       "53733  005681  2016.0    582.332    555.311  0.048659\n",
       "53734  005681  2017.0    607.947    582.332  0.043987"
      ]
     },
     "execution_count": 35,
     "metadata": {},
     "output_type": "execute_result"
    }
   ],
   "source": [
    "# Check one case of skipping years (again)\n",
    "compa.loc[compa.gvkey=='005681',['gvkey','fyear','at','at_lag','inv']]"
   ]
  },
  {
   "cell_type": "markdown",
   "metadata": {
    "slideshow": {
     "slide_type": "subslide"
    }
   },
   "source": [
    "**What do we do now?**"
   ]
  },
  {
   "cell_type": "code",
   "execution_count": 36,
   "metadata": {
    "slideshow": {
     "slide_type": "subslide"
    }
   },
   "outputs": [
    {
     "data": {
      "text/plain": [
       "0.23697760012178384"
      ]
     },
     "execution_count": 36,
     "metadata": {},
     "output_type": "execute_result"
    }
   ],
   "source": [
    "# Look at missings\n",
    "compa.inv.isnull().mean()"
   ]
  },
  {
   "cell_type": "code",
   "execution_count": 37,
   "metadata": {
    "slideshow": {
     "slide_type": "subslide"
    }
   },
   "outputs": [
    {
     "data": {
      "text/plain": [
       "gvkey      018073\n",
       "fyear        2013\n",
       "at        427.398\n",
       "at_lag      0.001\n",
       "inv        427397\n",
       "Name: 185641, dtype: object"
      ]
     },
     "execution_count": 37,
     "metadata": {},
     "output_type": "execute_result"
    }
   ],
   "source": [
    "# Be careful with ratios\n",
    "compa.loc[compa.inv.idxmax,['gvkey','fyear','at','at_lag','inv']]"
   ]
  },
  {
   "cell_type": "code",
   "execution_count": 38,
   "metadata": {
    "slideshow": {
     "slide_type": "subslide"
    }
   },
   "outputs": [
    {
     "data": {
      "text/plain": [
       "<matplotlib.axes._subplots.AxesSubplot at 0x2c733e1a8d0>"
      ]
     },
     "execution_count": 38,
     "metadata": {},
     "output_type": "execute_result"
    },
    {
     "data": {
      "image/png": "[encoded data removed]",
      "text/plain": [
       "<Figure size 432x288 with 1 Axes>"
      ]
     },
     "metadata": {},
     "output_type": "display_data"
    }
   ],
   "source": [
    "# What explains such large inv?\n",
    "compa[compa.inv<10].inv.hist()"
   ]
  },
  {
   "cell_type": "markdown",
   "metadata": {
    "slideshow": {
     "slide_type": "slide"
    }
   },
   "source": [
    "# Is Asset Growth Investment?\n",
    "\n",
    "* See Cooper, Gulen, Schill, JF (2008);\n",
    "* What is asset growth capturing other than investment? \n",
    "    * Mergers;\n",
    "    * Issuance;\n",
    "    * Spin-offs.\n",
    "* Is it really investments that forecast future stock returns?"
   ]
  },
  {
   "cell_type": "code",
   "execution_count": 39,
   "metadata": {
    "slideshow": {
     "slide_type": "slide"
    }
   },
   "outputs": [],
   "source": [
    "# A more traditional measure of investment: CAPX\n",
    "compa['inv_capx'] = compa['capx']/compa['at_lag']\n",
    "filter_inv_capx = (compa['capx']<=0)|(compa['at_lag']<=0)|(compa.fdiff>1)\n",
    "compa.loc[filter_inv_capx,'inv_capx']=np.nan"
   ]
  },
  {
   "cell_type": "code",
   "execution_count": 40,
   "metadata": {
    "slideshow": {
     "slide_type": "subslide"
    }
   },
   "outputs": [
    {
     "data": {
      "text/plain": [
       "<matplotlib.axes._subplots.AxesSubplot at 0x2c725f964e0>"
      ]
     },
     "execution_count": 40,
     "metadata": {},
     "output_type": "execute_result"
    },
    {
     "data": {
      "image/png": "[encoded data removed]",
      "text/plain": [
       "<Figure size 432x288 with 1 Axes>"
      ]
     },
     "metadata": {},
     "output_type": "display_data"
    }
   ],
   "source": [
    "# Difference for Apple\n",
    "compa.loc[(compa.gvkey=='001690')&(compa.fyear>=1985),['fyear','inv','inv_capx']].set_index(['fyear']).plot(title=\"Apple's Investment\") "
   ]
  },
  {
   "cell_type": "code",
   "execution_count": 41,
   "metadata": {
    "slideshow": {
     "slide_type": "subslide"
    }
   },
   "outputs": [
    {
     "data": {
      "text/plain": [
       "<matplotlib.axes._subplots.AxesSubplot at 0x2c72a839c18>"
      ]
     },
     "execution_count": 41,
     "metadata": {},
     "output_type": "execute_result"
    },
    {
     "data": {
      "image/png": "[encoded data removed]",
      "text/plain": [
       "<Figure size 432x288 with 1 Axes>"
      ]
     },
     "metadata": {},
     "output_type": "display_data"
    }
   ],
   "source": [
    "compa.loc[(compa.gvkey=='001690')&(compa.fyear>=1985),['fyear','inv_capx']].set_index(['fyear']).plot(title=\"Apple's Investment\")"
   ]
  },
  {
   "cell_type": "markdown",
   "metadata": {
    "slideshow": {
     "slide_type": "slide"
    }
   },
   "source": [
    "# Save Output"
   ]
  },
  {
   "cell_type": "code",
   "execution_count": 42,
   "metadata": {},
   "outputs": [
    {
     "data": {
      "text/plain": [
       "Index(['gvkey', 'datadate', 'conm', 'fyear', 'fyr', 'at', 'capx', 'ceq',\n",
       "       'cogs', 'csho', 'dlc', 'dlcch', 'dltt', 'dp', 'ib', 'itcb', 'lt', 'mib',\n",
       "       'naicsh', 'ni', 'prstkcc', 'pstk', 'pstkl', 'pstkrv', 're', 'revt',\n",
       "       'sale', 'seq', 'sich', 'txdb', 'txdi', 'txditc', 'wcapch', 'xint',\n",
       "       'xlr', 'xrd', 'xsga', 'se', 'ps', 'dt', 'be', 'cost', 'op', 'opbe',\n",
       "       'at_lag', 'inv', 'fdiff', 'inv_capx'],\n",
       "      dtype='object')"
      ]
     },
     "execution_count": 42,
     "metadata": {},
     "output_type": "execute_result"
    }
   ],
   "source": [
    "compa.columns"
   ]
  },
  {
   "cell_type": "code",
   "execution_count": 43,
   "metadata": {
    "slideshow": {
     "slide_type": "slide"
    }
   },
   "outputs": [],
   "source": [
    "compa.to_pickle(path='C:/Users/lmota20/Dropbox/Columbia/BigData/class2019/Lecture_I/outputs/compa_annual.pkl')"
   ]
  }
 ],
 "metadata": {
  "celltoolbar": "Slideshow",
  "kernelspec": {
   "display_name": "Python 3",
   "language": "python",
   "name": "python3"
  },
  "language_info": {
   "codemirror_mode": {
    "name": "ipython",
    "version": 3
   },
   "file_extension": ".py",
   "mimetype": "text/x-python",
   "name": "python",
   "nbconvert_exporter": "python",
   "pygments_lexer": "ipython3",
   "version": "3.6.4"
  },
  "toc": {
   "base_numbering": 1,
   "nav_menu": {
    "height": "484px",
    "width": "230px"
   },
   "number_sections": true,
   "sideBar": true,
   "skip_h1_title": false,
   "title_cell": "Table of Contents",
   "title_sidebar": "Contents",
   "toc_cell": false,
   "toc_position": {},
   "toc_section_display": true,
   "toc_window_display": false
  }
 },
 "nbformat": 4,
 "nbformat_minor": 2
}
