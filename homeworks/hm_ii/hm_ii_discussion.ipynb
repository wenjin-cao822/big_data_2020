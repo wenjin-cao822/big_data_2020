{
 "cells": [
  {
   "cell_type": "markdown",
   "metadata": {
    "slideshow": {
     "slide_type": "slide"
    }
   },
   "source": [
    "# Big Data in Finance: Part II (Lecture 1) <BR><BR> Homework 2: Factor Investing\n",
    "    \n",
    "**Instructor** <BR>\n",
    "Lira Mota, lmota20@gsb.columbia.edu\n",
    "    \n",
    "**TA's:** <BR>\n",
    "Pu He, phe19@gsb.columbia.edu <BR> Daheng Yang, dyang22@gsb.columbia.edu"
   ]
  },
  {
   "cell_type": "markdown",
   "metadata": {
    "slideshow": {
     "slide_type": "subslide"
    }
   },
   "source": [
    "**Goal:** in this homework you are going to replicate Fama and French 5 factors and Momentum. \n",
    "\n",
    "**Delivery:** please, upload on canvas a .zip file with your .ipynb, .html notebook and git log. "
   ]
  },
  {
   "cell_type": "markdown",
   "metadata": {
    "slideshow": {
     "slide_type": "slide"
    }
   },
   "source": [
    "## Python Stuff\n",
    "\n",
    "1. What is project?\n",
    "\n",
    "   a. \"A project is an organizational unit that represents a complete software solution. It serves as a basis for coding assistance, bulk refactoring, coding style consistency, etc.\" [Source.](https://www.jetbrains.com/help/pycharm/project.html)\n",
    "   \n",
    "   b. Saves your preferences: paths, debug config, etc.\n",
    "   \n",
    "   c. Most important: you can create a virtual environment. Version control is going to be extremely important as you continue as a python programmer.  "
   ]
  },
  {
   "cell_type": "markdown",
   "metadata": {
    "slideshow": {
     "slide_type": "subslide"
    }
   },
   "source": [
    "   \n",
    "2. Every file that belongs to your project can be downloaded using \"import\". In other words, python modules are nothing more than .py files. (This is different than R packages)"
   ]
  },
  {
   "cell_type": "markdown",
   "metadata": {
    "slideshow": {
     "slide_type": "subslide"
    }
   },
   "source": [
    "3. Write your code to communicate ideas (and sometimes run programs)."
   ]
  },
  {
   "cell_type": "markdown",
   "metadata": {
    "slideshow": {
     "slide_type": "subslide"
    }
   },
   "source": [
    "4. It is very common to use external libraries in python, like you guys used \"fire_pytools\". But how to use them?\n",
    "\n",
    "    a. You have to read the code.\n",
    "    \n",
    "    b. You have to make sure that the code is right.\n",
    "    \n",
    "    c. You have to fix bugs they exist.\n",
    "    "
   ]
  },
  {
   "cell_type": "markdown",
   "metadata": {
    "slideshow": {
     "slide_type": "subslide"
    }
   },
   "source": [
    "## Git Stuff\n",
    "\n",
    "1. What is a git clone? \n",
    "\n",
    "2. Why clone is different than copy and past?\n",
    "\n",
    "3. How can I keep track of changes in a public repository?\n"
   ]
  },
  {
   "cell_type": "markdown",
   "metadata": {
    "slideshow": {
     "slide_type": "slide"
    }
   },
   "source": [
    "# Factor Calculation \n",
    "\n",
    "## Create Past Cumulative Returns"
   ]
  },
  {
   "cell_type": "markdown",
   "metadata": {
    "slideshow": {
     "slide_type": "subslide"
    }
   },
   "source": [
    "* The original Carhart paper offers many windows of cumulating returns and months to be skipped before the formation date.\n",
    "\n",
    "* In the code we have adopted the notation ret_{window}_{skip}, where {window} is the number of months to cumulate the returns and {skip} is the number of months to be skipped before this return is used for sorting.\n",
    "\n",
    "* 𝑟𝑒𝑡\\_11\\_1  is the 11 months cumulative returns, skipping 1 month, or, it is cumulative returns from 12 months before to one month before the formation date. This is the characteristic we are going to use to calculate the MOM factor."
   ]
  },
  {
   "cell_type": "markdown",
   "metadata": {
    "slideshow": {
     "slide_type": "slide"
    }
   },
   "source": [
    "## Creating the Fama and French (2015) 5 Factors"
   ]
  },
  {
   "cell_type": "markdown",
   "metadata": {
    "slideshow": {
     "slide_type": "subslide"
    }
   },
   "source": [
    "### Construct Your Data"
   ]
  },
  {
   "cell_type": "markdown",
   "metadata": {
    "slideshow": {
     "slide_type": "subslide"
    }
   },
   "source": [
    "### Clean Your data\n",
    "\n",
    "#### Global Filters\n",
    "1. SHRCD must be 10 or 11\n",
    "2. Stock must be traded in one of the three major stock exchanges, i.e, exchcd must be 1, 2, 3. \n",
    "        "
   ]
  },
  {
   "cell_type": "markdown",
   "metadata": {
    "slideshow": {
     "slide_type": "subslide"
    }
   },
   "source": [
    "#### Characterstic Specific Filters"
   ]
  },
  {
   "cell_type": "markdown",
   "metadata": {
    "slideshow": {
     "slide_type": "fragment"
    }
   },
   "source": [
    "1. Select stocks for which we have market equity data for December of t-1 and June of t.\n",
    "\n",
    "\n",
    "2. For all characteristics sorts, in order to be included the stock must have a valid characteristic\n",
    "\n",
    "    a. **BEME and OPBE:** BE > 0;\n",
    "    \n",
    "    b. **INV:** AT and ATlag must be positive;\n",
    "    \n",
    "    c. **SMB:** All of the above.\n",
    "    \n",
    "    \n"
   ]
  },
  {
   "cell_type": "markdown",
   "metadata": {
    "slideshow": {
     "slide_type": "subslide"
    }
   },
   "source": [
    "3. Note: How can different sorts have different number of total stocks?\n",
    "\n",
    "    a. Our interpretation is that the universe used for stocks to sorting is different than the universe of stocks used for investment invest.\n",
    "    \n",
    "    b. More details in the code."
   ]
  },
  {
   "cell_type": "markdown",
   "metadata": {
    "slideshow": {
     "slide_type": "subslide"
    }
   },
   "source": [
    "#### Merge Sort With Monthly Returns\n",
    "\n",
    "1. In which variable should we merge?\n",
    "\n",
    "\n",
    "2. The intuition always comes from asking the question: what is the information available for the investor at the time of the portfolio formation?"
   ]
  },
  {
   "cell_type": "markdown",
   "metadata": {
    "slideshow": {
     "slide_type": "subslide"
    }
   },
   "source": [
    "#### What to do With Missing Returns?\n",
    "\n",
    "1. We took care of the weight variable: no missings values unless delisted.\n",
    "\n",
    "\n",
    "2. What to do when crsp reports a missing return?\n",
    "\n",
    "\n",
    "3. What is the difference between monthly and daily returns?\n",
    "\n",
    "\n",
    "4. How to calculate returns ourselves?\n",
    "\n",
    "    a. Do remember the cfacprc? "
   ]
  },
  {
   "cell_type": "markdown",
   "metadata": {
    "slideshow": {
     "slide_type": "subslide"
    }
   },
   "source": [
    "#### With all in hand you can calculate factor returns!"
   ]
  },
  {
   "cell_type": "markdown",
   "metadata": {
    "slideshow": {
     "slide_type": "subslide"
    }
   },
   "source": [
    "Check ***fire_pytools/examples/fama_french_factors.py*** code solution."
   ]
  }
 ],
 "metadata": {
  "celltoolbar": "Slideshow",
  "kernelspec": {
   "display_name": "Python 3",
   "language": "python",
   "name": "python3"
  },
  "language_info": {
   "codemirror_mode": {
    "name": "ipython",
    "version": 3
   },
   "file_extension": ".py",
   "mimetype": "text/x-python",
   "name": "python",
   "nbconvert_exporter": "python",
   "pygments_lexer": "ipython3",
   "version": "3.6.4"
  },
  "toc": {
   "base_numbering": 1,
   "nav_menu": {},
   "number_sections": true,
   "sideBar": false,
   "skip_h1_title": true,
   "title_cell": "Table of Contents",
   "title_sidebar": "Contents",
   "toc_cell": false,
   "toc_position": {
    "height": "877px",
    "left": "1755px",
    "top": "0px",
    "width": "165px"
   },
   "toc_section_display": false,
   "toc_window_display": true
  }
 },
 "nbformat": 4,
 "nbformat_minor": 2
}
