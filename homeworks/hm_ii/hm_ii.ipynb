{
 "cells": [
  {
   "cell_type": "markdown",
   "metadata": {},
   "source": [
    "# Big Data in Finance: Part II (Lecture 1) <BR><BR> Homework 2: Factor Investing\n",
    "    \n",
    "**Instructor** <BR>\n",
    "Lira Mota, lmota20@gsb.columbia.edu\n",
    "    \n",
    "**TA's:** <BR>\n",
    "Pu He, phe19@gsb.columbia.edu <BR> Daheng Yang, dyang22@gsb.columbia.edu"
   ]
  },
  {
   "cell_type": "markdown",
   "metadata": {},
   "source": [
    "**Goal:** in this homework you are going to replicate Fama and French 5 factors and Momentum. \n",
    "\n",
    "**Delivery:** please, upload on canvas a .zip file with your .ipynb, .html notebook and git log. \n",
    "\n"
   ]
  },
  {
   "cell_type": "markdown",
   "metadata": {},
   "source": [
    "## Setup\n",
    "For this homework you need an extra package that you can find in the Bitbucket repository [here](https://bitbucket.org/liramota/fire_pytools/). Downloading other repositories code is a good exercise per se.\n",
    "\n",
    "fire_pytools stands for (FI)nance (RE)search python tools and contains a bunch of useful functions, including data download, portfolio sorts, etc.\n",
    "\n",
    "If you decide to download the fire_pytools to separate folder, the best way to use an external library in pycharm is by adding the library PATH to your project. Check [here](https://www.jetbrains.com/help/pycharm/configuring-content-roots.html) if you have problems."
   ]
  },
  {
   "cell_type": "markdown",
   "metadata": {},
   "source": [
    "## Download Data\n",
    "\n",
    "In \"hm_ii/import_data\" you can find two scripts:\n",
    "\n",
    "* \"stock_monthly.py\" constructs the monthly data we talked in class. \n",
    "* \"stock_annual\" that constructs  annual data. In annual data there are some details we did not have time to discuss in class. \n",
    "\n",
    "The first task is to be able to run both codes and save in your machine the two pandas data frames. They are the input for the factor calculations."
   ]
  },
  {
   "cell_type": "markdown",
   "metadata": {},
   "source": [
    "## Calculate past 11-1 returns\n",
    "\n",
    "In order to calculate the momentum factor, first we need to calculate the \"past cumulative returns\". Your task in this question is to calculate it. This is the only characteristic that you need to construct your self.\n",
    "\n",
    "The original Carhart paper offers many windows of cumulating returns and months to be skipped before the formation date. In the code we have adopted the notation ret_{window}_{skip}, where {window} is the number of months to cumulate the returns and {skip} is the number of months to be skipped before this return is used for sorting;\n",
    "\n",
    "𝑟𝑒𝑡\\_11\\_1  is the 11 months cumulative returns, skipping 1 month, or, it is cumulative returns from 12 months before to one month before the formation date. This is the characteristic we are going to use to calculate the MOM factor.\n",
    "\n",
    "Be careful, the ret_{window}_{skip} notation is not to be confused with the Ken French notation. Since we are going to hold it for the following month, when Ken French report returns, he calls them: \"portfolios formed on prior (2-12) return\". Again, this for portfolio holding returns, not sorts.\n",
    "\n",
    "In the stock_monthly.py you can find skeleton code for this task.\n",
    "\n",
    "Report here number of missings, number of unique permnos and (average, min, max) per year."
   ]
  },
  {
   "cell_type": "markdown",
   "metadata": {},
   "source": [
    "## Portfolios Sorts\n",
    "\n",
    "Check Ken French web for 5 factors (MktRF, SMB, HML, RMW, INV) + Mom factor description. \n",
    "\n",
    "Use the function \"fire_pytool.portools.find_breakpoints\" and \"fire_pytool.portools.sort_portfolios\" to sort stocks into portfolio buckets. Every end of June, according to ME, BEME, OP, INV. Every end of month you should sort portfolios according to past ret_11_1."
   ]
  },
  {
   "cell_type": "markdown",
   "metadata": {},
   "source": [
    "## Return Calculation\n",
    "\n",
    "For each portfolio calculate the average value weighted monthly returns. Portfolios are the ones needed to calculate factor returns: (3 x 2) BEME and ME, (3 x 2) OPBE and ME and (3 x 2) INV and ME, (3 x 2) ret_11_1 and ME."
   ]
  },
  {
   "cell_type": "markdown",
   "metadata": {},
   "source": [
    "## Factor Returns\n",
    "Calculate the 5 factors returns (MktRF, SMB, HML, RMW and INV) and MOM. Plot the cumulative returns of each one and the summary statistics."
   ]
  },
  {
   "cell_type": "markdown",
   "metadata": {},
   "source": [
    "## Check the correlations with factors from Ken French website\n",
    "\n",
    "Download Ken French's factors and compare with yours. You should report plots of cumulative returns and a correlation table. "
   ]
  }
 ],
 "metadata": {
  "kernelspec": {
   "display_name": "Python 3",
   "language": "python",
   "name": "python3"
  },
  "language_info": {
   "codemirror_mode": {
    "name": "ipython",
    "version": 3
   },
   "file_extension": ".py",
   "mimetype": "text/x-python",
   "name": "python",
   "nbconvert_exporter": "python",
   "pygments_lexer": "ipython3",
   "version": "3.6.4"
  },
  "toc": {
   "base_numbering": 1.0,
   "nav_menu": {},
   "number_sections": true,
   "sideBar": true,
   "skip_h1_title": true,
   "title_cell": "Table of Contents",
   "title_sidebar": "Contents",
   "toc_cell": false,
   "toc_position": {},
   "toc_section_display": true,
   "toc_window_display": true
  }
 },
 "nbformat": 4,
 "nbformat_minor": 2
}
