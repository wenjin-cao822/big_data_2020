{
 "cells": [
  {
   "cell_type": "markdown",
   "metadata": {},
   "source": [
    "# Big Data in Finance\n",
    "## Part II: CRSP and Compustat\n",
    "### Homework I: Due February 19, 2020, by 3:59 pm.\n",
    "\n",
    "\n",
    "**Goal**: Make sure you have all set up for our next class.\n",
    "\n",
    "**Delivery**: Please, upload on canvas a .zip file with your .ipynb and .html notebook. \n",
    "\n",
    "This homework should be simple. Your task is to make sure you can run all cells bellow without an error.\n"
   ]
  },
  {
   "cell_type": "markdown",
   "metadata": {},
   "source": [
    "# Packages\n",
    "\n",
    "Make sure you have installed all required packages. Use \"conda install\"  or \"pip install\" if you you are missing any of the packages."
   ]
  },
  {
   "cell_type": "code",
   "execution_count": null,
   "metadata": {
    "pycharm": {
     "is_executing": false
    }
   },
   "outputs": [],
   "source": [
    "# Packages\n",
    "%matplotlib inline\n",
    "import matplotlib.pyplot as plt\n",
    "import numpy as np\n",
    "import pandas as pd\n",
    "import wrds\n",
    "\n",
    "# Setups\n",
    "pd.set_option(\"display.max_rows\", None)"
   ]
  },
  {
   "cell_type": "markdown",
   "metadata": {},
   "source": [
    "#   WRDS Connection\n",
    "\n",
    "Make sure you can connect to WRDS server. You should configure wrds connector before hand. Please check the syllabus for details.\n"
   ]
  },
  {
   "cell_type": "code",
   "execution_count": null,
   "metadata": {
    "pycharm": {
     "is_executing": false
    }
   },
   "outputs": [],
   "source": [
    "# Set Up WRDS connection\n",
    "db = wrds.Connection(wrds_username='lmota') # make sure to change the username. \n"
   ]
  },
  {
   "cell_type": "markdown",
   "metadata": {},
   "source": [
    "# Test WRDS Connection"
   ]
  },
  {
   "cell_type": "markdown",
   "metadata": {},
   "source": [
    "## Determine the libraries available at WRDS"
   ]
  },
  {
   "cell_type": "code",
   "execution_count": null,
   "metadata": {
    "pycharm": {
     "is_executing": false
    }
   },
   "outputs": [],
   "source": [
    "# List all libraries in WRDS\n",
    "libs = db.list_libraries()\n",
    "libs.__class__ # Notice that libs is a list. \n",
    "pd.DataFrame({'libraries':libs}).sort_values('libraries') # Transform libs to a Pandas data frame to have a better display."
   ]
  },
  {
   "cell_type": "markdown",
   "metadata": {},
   "source": [
    " ## Determine the datasets within a given library"
   ]
  },
  {
   "cell_type": "code",
   "execution_count": null,
   "metadata": {},
   "outputs": [],
   "source": [
    "compd_tables = db.list_tables(library=\"compm\") # compd: Compustat daily update\n",
    "pd.DataFrame({'tables':compd_tables}) # Transform libs to a Pandas data frame to have a better display."
   ]
  },
  {
   "cell_type": "markdown",
   "metadata": {},
   "source": [
    " ## Determine the column headers (variables) within a given dataset"
   ]
  },
  {
   "cell_type": "code",
   "execution_count": null,
   "metadata": {},
   "outputs": [],
   "source": [
    "db.describe_table(library=\"compm\", table=\"funda\")"
   ]
  },
  {
   "cell_type": "markdown",
   "metadata": {},
   "source": [
    "## Submit a SQL query to import data"
   ]
  },
  {
   "cell_type": "code",
   "execution_count": null,
   "metadata": {},
   "outputs": [],
   "source": [
    "comp = db.raw_sql('SELECT datadate, fyear, gvkey, conm, at, ebit, che FROM compm.funda LIMIT 10;', date_cols=['datadate'])\n",
    "comp"
   ]
  },
  {
   "cell_type": "code",
   "execution_count": null,
   "metadata": {},
   "outputs": [],
   "source": [
    "query =\"\"\"SELECT datadate, fyear, gvkey, conm, at, ebit, che FROM compm.funda \n",
    "                 WHERE gvkey='001690' \n",
    "                       AND indfmt = 'INDL'\n",
    "                       AND datafmt = 'STD'\n",
    "                       AND popsrc = 'D'\n",
    "                       AND consol = 'C';\"\"\"\n",
    "apple_funda = db.raw_sql(query, \n",
    "                         date_cols=['datadate'])\n",
    "apple_funda"
   ]
  },
  {
   "cell_type": "markdown",
   "metadata": {},
   "source": [
    "# One Test Plot"
   ]
  },
  {
   "cell_type": "code",
   "execution_count": null,
   "metadata": {},
   "outputs": [],
   "source": [
    "apple_funda.set_index('datadate').che.plot(title='Apple Short-Term Cash Holding')"
   ]
  }
 ],
 "metadata": {
  "kernelspec": {
   "display_name": "Python 3",
   "language": "python",
   "name": "python3"
  },
  "language_info": {
   "codemirror_mode": {
    "name": "ipython",
    "version": 3
   },
   "file_extension": ".py",
   "mimetype": "text/x-python",
   "name": "python",
   "nbconvert_exporter": "python",
   "pygments_lexer": "ipython3",
   "version": "3.7.3"
  },
  "pycharm": {
   "stem_cell": {
    "cell_type": "raw",
    "metadata": {
     "collapsed": false
    },
    "source": []
   }
  },
  "toc": {
   "base_numbering": 1,
   "nav_menu": {},
   "number_sections": true,
   "sideBar": true,
   "skip_h1_title": false,
   "title_cell": "Table of Contents",
   "title_sidebar": "Contents",
   "toc_cell": false,
   "toc_position": {},
   "toc_section_display": true,
   "toc_window_display": true
  }
 },
 "nbformat": 4,
 "nbformat_minor": 2
}
